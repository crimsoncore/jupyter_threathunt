{
 "cells": [
  {
   "cell_type": "markdown",
   "metadata": {},
   "source": [
    "# ANSIBLE"
   ]
  },
  {
   "cell_type": "markdown",
   "metadata": {},
   "source": [
    "Change to Ansible directory"
   ]
  },
  {
   "cell_type": "code",
   "execution_count": 6,
   "metadata": {
    "collapsed": true
   },
   "outputs": [
    {
     "name": "stdout",
     "output_type": "stream",
     "text": [
      "/home/coder/project/project_threathunt/ansible_threathunt\n"
     ]
    }
   ],
   "source": [
    "cd /home/coder/project/project_threathunt/ansible_threathunt"
   ]
  },
  {
   "cell_type": "code",
   "execution_count": 8,
   "metadata": {
    "collapsed": true
   },
   "outputs": [
    {
     "name": "stdout",
     "output_type": "stream",
     "text": [
      "total 112\r\n",
      "drwxr-xr-x 30 coder coder  960 Nov  9 13:29 \u001b[0m\u001b[38;5;5m.\u001b[0m/\r\n",
      "drwxr-xr-x 11 coder coder  352 Nov  9 14:48 \u001b[38;5;5m..\u001b[0m/\r\n",
      "drwxr-xr-x  3 coder coder   96 Aug 19 13:23 \u001b[38;5;5mansible-caldera\u001b[0m/\r\n",
      "drwxrwxr-x  3 coder coder   96 Aug 19 13:23 \u001b[38;5;5mansible-traefik\u001b[0m/\r\n",
      "-rw-r--r--  1 coder coder  223 Nov  9 21:48 dc_provision.yml\r\n",
      "-rw-r--r--  1 coder coder  148 Aug 19 13:23 dc_set_ad.yml\r\n",
      "-rw-r--r--  1 coder coder  280 Jan 18  2020 dc.yml\r\n",
      "-rw-r--r--  1 coder coder 8196 Oct  4 15:19 .DS_Store\r\n",
      "drwxr-xr-x 15 coder coder  480 Nov 13 16:16 \u001b[38;5;5m.git\u001b[0m/\r\n",
      "-rw-r--r--  1 coder coder  429 Mar 19  2020 .gitignore\r\n",
      "-rw-r--r--  1 coder coder 2399 Aug 19 14:53 hosts-ls\r\n",
      "-rw-r--r--  1 coder coder 3030 Nov 12 19:41 hosts-pj\r\n",
      "-rw-r--r--  1 coder coder 2030 Nov  9 13:31 hosts-pj-home\r\n",
      "-rw-r--r--  1 coder coder  324 Aug 19 13:23 lab_step_0_domain.yml\r\n",
      "-rw-r--r--  1 coder coder  537 Nov 10 11:47 lab_step_1_elk-mq.yml\r\n",
      "-rw-r--r--  1 coder coder  531 Oct 20 15:03 lab_step_2_ws.yml\r\n",
      "-rw-r--r--  1 coder coder  351 Oct 20 15:12 lab_step_3_kali.yml\r\n",
      "-rw-r--r--  1 coder coder  565 Oct 19 17:45 lab_step_4_fileserver.yml\r\n",
      "-rw-r--r--  1 coder coder  672 Mar 19  2020 pj-production\r\n",
      "-rw-r--r--  1 coder coder 3784 Oct 20 15:28 README.md\r\n",
      "drwxr-xr-x 36 coder coder 1152 Oct 19 17:43 \u001b[38;5;5mroles\u001b[0m/\r\n",
      "-rw-r--r--  1 coder coder  492 Aug 19 13:23 site-ls.yml\r\n",
      "-rw-r--r--  1 coder coder 1686 Oct 20 16:11 solutions.yml\r\n",
      "-rw-r--r--  1 coder coder  157 Aug 19 13:23 terraform.tfstate\r\n",
      "-rw-r--r--  1 coder coder 4290 Aug 19 15:07 th-ls.yml\r\n",
      "-rw-r--r--  1 coder coder 3850 Nov  9 16:03 th-pj-home.yml\r\n",
      "-rw-r--r--  1 coder coder 4278 Nov 10 11:57 th-pj.yml\r\n",
      "-rw-r--r--  1 coder coder  342 Sep 21 18:16 ws_join_ad.yml\r\n",
      "-rw-r--r--  1 coder coder   96 Sep 21 18:19 ws_provision.yml\r\n",
      "-rw-r--r--  1 coder coder   65 Aug 19 13:23 ws_winlogbeat_sysmon.yml\r\n"
     ]
    }
   ],
   "source": [
    "ls -la"
   ]
  },
  {
   "cell_type": "markdown",
   "metadata": {},
   "source": [
    "Configure Domain Controller"
   ]
  },
  {
   "cell_type": "code",
   "execution_count": 10,
   "metadata": {
    "collapsed": true
   },
   "outputs": [
    {
     "name": "stdout",
     "output_type": "stream",
     "text": [
      "\u001b[0;35m[DEPRECATION WARNING]: The TRANSFORM_INVALID_GROUP_CHARS settings is set to \u001b[0m\n",
      "\u001b[0;35mallow bad characters in group names by default, this will change, but still be \u001b[0m\n",
      "\u001b[0;35muser configurable on deprecation. This feature will be removed in version 2.10.\u001b[0m\n",
      "\u001b[0;35m Deprecation warnings can be disabled by setting deprecation_warnings=False in \u001b[0m\n",
      "\u001b[0;35mansible.cfg.\u001b[0m\n",
      "\u001b[0;35m\u001b[0m\u001b[1;35m[WARNING]: Invalid characters were found in group names but not replaced, use\u001b[0m\n",
      "\u001b[1;35m-vvvv to see details\u001b[0m\n",
      "\u001b[1;35m\u001b[0m\u001b[1;35m[WARNING]: Found both group and host with same name: elk\u001b[0m\n",
      "\u001b[1;35m\u001b[0m\n",
      "PLAY [Set VM as DC] ************************************************************\n",
      "\n",
      "TASK [dc_set_ad : Setup Active Directory Controller] ***************************\n",
      "\u001b[0;32mok: [dc]\u001b[0m\n",
      "\u001b[0;32m\u001b[0m\n",
      "TASK [dc_set_ad : Reboot and wait 80 seconds] **********************************\n",
      "\u001b[0;36mskipping: [dc]\u001b[0m\n",
      "\u001b[0;36m\u001b[0m\n",
      "TASK [dc_set_ad : Wait 10 minutes for pdc to become reachable/usable] **********\n",
      "\u001b[0;36mskipping: [dc]\u001b[0m\n",
      "\u001b[0;36m\u001b[0m\n",
      "PLAY [Provision DC] ************************************************************\n",
      "\n",
      "TASK [dc_apps : install dc apps] ***********************************************\n",
      "\u001b[0;32mok: [dc]\u001b[0m\n",
      "\u001b[0;32m\u001b[0m\n",
      "TASK [dc_apps : install googlechrome app] **************************************\n",
      "\u001b[0;32mok: [dc]\u001b[0m\n",
      "\u001b[0;32m\u001b[0m\n",
      "TASK [dc_git-clone : Create ansible folder] ************************************\n",
      "\u001b[0;32mok: [dc]\u001b[0m\n",
      "\u001b[0;32m\u001b[0m\n",
      "TASK [dc_git-clone : Copy git clone script] ************************************\n",
      "\u001b[0;32mok: [dc]\u001b[0m\n",
      "\u001b[0;32m\u001b[0m\n",
      "TASK [dc_git-clone : Clone Ansible Threathunt git] *****************************\n",
      "\u001b[0;33mchanged: [dc]\u001b[0m\n",
      "\u001b[0;33m\u001b[0m\n",
      "TASK [dc_restore_gpo : restore domain gpo] *************************************\n",
      "\u001b[0;33mchanged: [dc]\u001b[0m\n",
      "\u001b[0;33m\u001b[0m\n",
      "TASK [dc_restore_gpo : Reboot and wait 80 seconds] *****************************\n",
      "\u001b[0;33mchanged: [dc]\u001b[0m\n",
      "\u001b[0;33m\u001b[0m\n",
      "TASK [dc_provision : Install AD Services feature] ******************************\n",
      "\u001b[0;32mok: [dc]\u001b[0m\n",
      "\u001b[0;32m\u001b[0m\n",
      "TASK [dc_provision : Ensure the group SQLadmins exists using sAMAccountName] ***\n",
      "\u001b[0;32mok: [dc]\u001b[0m\n",
      "\u001b[0;32m\u001b[0m\n",
      "TASK [dc_provision : Ensure the group Students exists using sAMAccountName] ****\n",
      "\u001b[0;32mok: [dc]\u001b[0m\n",
      "\u001b[0;32m\u001b[0m\n",
      "TASK [dc_provision : Create Service user SVC_sql] ******************************\n",
      "\u001b[0;33mchanged: [dc]\u001b[0m\n",
      "\u001b[0;33m\u001b[0m\n",
      "TASK [dc_provision : Ensure each account is created] ***************************\n",
      "\u001b[0;32mok: [dc] => (item={'name': 'student01', 'password': 'student01'})\u001b[0m\n",
      "\u001b[0;32m\u001b[0m\u001b[0;32mok: [dc] => (item={'name': 'student02', 'password': 'student02'})\u001b[0m\n",
      "\u001b[0;32m\u001b[0m\u001b[0;32mok: [dc] => (item={'name': 'student03', 'password': 'student03'})\u001b[0m\n",
      "\u001b[0;32m\u001b[0m\u001b[0;32mok: [dc] => (item={'name': 'student04', 'password': 'student04'})\u001b[0m\n",
      "\u001b[0;32m\u001b[0m\u001b[0;32mok: [dc] => (item={'name': 'student05', 'password': 'student05'})\u001b[0m\n",
      "\u001b[0;32m\u001b[0m\u001b[0;32mok: [dc] => (item={'name': 'student06', 'password': 'student06'})\u001b[0m\n",
      "\u001b[0;32m\u001b[0m\u001b[0;32mok: [dc] => (item={'name': 'student07', 'password': 'student07'})\u001b[0m\n",
      "\u001b[0;32m\u001b[0m\u001b[0;32mok: [dc] => (item={'name': 'student08', 'password': 'student08'})\u001b[0m\n",
      "\u001b[0;32m\u001b[0m\u001b[0;32mok: [dc] => (item={'name': 'student09', 'password': 'student09'})\u001b[0m\n",
      "\u001b[0;32m\u001b[0m\u001b[0;32mok: [dc] => (item={'name': 'student10', 'password': 'student10'})\u001b[0m\n",
      "\u001b[0;32m\u001b[0m\u001b[0;32mok: [dc] => (item={'name': 'student11', 'password': 'student11'})\u001b[0m\n",
      "\u001b[0;32m\u001b[0m\u001b[0;32mok: [dc] => (item={'name': 'student12', 'password': 'student12'})\u001b[0m\n",
      "\u001b[0;32m\u001b[0m\n",
      "TASK [dc_provision : Copy BGinfo to netlogon] **********************************\n",
      "\u001b[0;32mok: [dc]\u001b[0m\n",
      "\u001b[0;32m\u001b[0m\n",
      "TASK [dc_provision : Create ansible folder] ************************************\n",
      "\u001b[0;32mok: [dc]\u001b[0m\n",
      "\u001b[0;32m\u001b[0m\n",
      "TASK [dc_provision : Copy threathunt script] ***********************************\n",
      "\u001b[0;32mok: [dc]\u001b[0m\n",
      "\u001b[0;32m\u001b[0m\n",
      "TASK [dc_provision : Run threathunt ps script] *********************************\n",
      "\u001b[0;33mchanged: [dc]\u001b[0m\n",
      "\u001b[0;33m\u001b[0m\n",
      "TASK [winlogbeat : Create directory] *******************************************\n",
      "\u001b[0;32mok: [dc]\u001b[0m\n",
      "\u001b[0;32m\u001b[0m\n",
      "TASK [winlogbeat : Get winlogbeat zip] *****************************************\n",
      "\u001b[0;36mskipping: [dc]\u001b[0m\n",
      "\u001b[0;36m\u001b[0m\n",
      "TASK [winlogbeat : Unzip winlogbeat] *******************************************\n",
      "\u001b[0;36mskipping: [dc]\u001b[0m\n",
      "\u001b[0;36m\u001b[0m\n",
      "TASK [winlogbeat : Install the service via script] *****************************\n",
      "\u001b[0;36mskipping: [dc]\u001b[0m\n",
      "\u001b[0;36m\u001b[0m\n",
      "TASK [winlogbeat : Copy WinLogBeat configuration.] *****************************\n",
      "\u001b[0;32mok: [dc]\u001b[0m\n",
      "\u001b[0;32m\u001b[0m\n",
      "TASK [winlogbeat : restart winlogbeat] *****************************************\n",
      "\u001b[0;33mchanged: [dc]\u001b[0m\n",
      "\u001b[0;33m\u001b[0m\n",
      "TASK [sysmon : Create directory] ***********************************************\n",
      "\u001b[0;32mok: [dc]\u001b[0m\n",
      "\u001b[0;32m\u001b[0m\n",
      "TASK [sysmon : Get sysmon zip] *************************************************\n",
      "\u001b[0;33mchanged: [dc]\u001b[0m\n",
      "\u001b[0;33m\u001b[0m\n",
      "TASK [sysmon : Unzip sysmon] ***************************************************\n",
      "\u001b[0;33mchanged: [dc]\u001b[0m\n",
      "\u001b[0;33m\u001b[0m\n",
      "TASK [sysmon : Copy sysmon config] *********************************************\n",
      "\u001b[0;32mok: [dc]\u001b[0m\n",
      "\u001b[0;32m\u001b[0m\n",
      "TASK [sysmon : check sysmon service] *******************************************\n",
      "\u001b[0;32mok: [dc]\u001b[0m\n",
      "\u001b[0;32m\u001b[0m\n",
      "TASK [sysmon : Run sysmon] *****************************************************\n",
      "\u001b[0;36mskipping: [dc]\u001b[0m\n",
      "\u001b[0;36m\u001b[0m\n",
      "TASK [sysmon : reload sysmon config] *******************************************\n",
      "\u001b[0;33mchanged: [dc]\u001b[0m\n",
      "\u001b[0;33m\u001b[0m\n",
      "PLAY RECAP *********************************************************************\n",
      "\u001b[0;33mdc\u001b[0m                         : \u001b[0;32mok=26  \u001b[0m \u001b[0;33mchanged=9   \u001b[0m unreachable=0    failed=0    \u001b[0;36mskipped=6   \u001b[0m rescued=0    ignored=0   \n",
      "\n"
     ]
    }
   ],
   "source": [
    "!ansible-playbook -i ../ansible_threathunt/hosts-pj-home  --extra-vars \"ansible_python_interpreter=/usr/bin/python3\" ../ansible_threathunt/lab_step_0_domain.yml -e @th-pj.yml"
   ]
  },
  {
   "cell_type": "markdown",
   "metadata": {},
   "source": [
    "Configure windows clients"
   ]
  },
  {
   "cell_type": "code",
   "execution_count": null,
   "metadata": {},
   "outputs": [
    {
     "name": "stdout",
     "output_type": "stream",
     "text": [
      "\u001b[0;35m[DEPRECATION WARNING]: The TRANSFORM_INVALID_GROUP_CHARS settings is set to \u001b[0m\n",
      "\u001b[0;35mallow bad characters in group names by default, this will change, but still be \u001b[0m\n",
      "\u001b[0;35muser configurable on deprecation. This feature will be removed in version 2.10.\u001b[0m\n",
      "\u001b[0;35m Deprecation warnings can be disabled by setting deprecation_warnings=False in \u001b[0m\n",
      "\u001b[0;35mansible.cfg.\u001b[0m\n",
      "\u001b[0;35m\u001b[0m\u001b[1;35m[WARNING]: Invalid characters were found in group names but not replaced, use\u001b[0m\n",
      "\u001b[1;35m-vvvv to see details\u001b[0m\n",
      "\u001b[1;35m\u001b[0m\u001b[1;35m[WARNING]: Found both group and host with same name: elk\u001b[0m\n",
      "\u001b[1;35m\u001b[0m\n",
      "PLAY [ws-student] **************************************************************\n",
      "\n",
      "TASK [Gathering Facts] *********************************************************\n",
      "\u001b[0;32mok: [w10]\u001b[0m\n",
      "\u001b[0;32m\u001b[0m\n",
      "TASK [ws_join_ad : join AD] ****************************************************\n"
     ]
    }
   ],
   "source": [
    "!ansible-playbook -i ../ansible_threathunt/hosts-pj-home --extra-vars \"ansible_python_interpreter=/usr/bin/python3\" ../ansible_threathunt/lab_step_2_ws.yml -e @th-pj.yml"
   ]
  },
  {
   "cell_type": "code",
   "execution_count": null,
   "metadata": {},
   "outputs": [],
   "source": []
  }
 ],
 "metadata": {
  "kernelspec": {
   "display_name": "Python 3",
   "language": "python",
   "name": "python3"
  },
  "language_info": {
   "codemirror_mode": {
    "name": "ipython",
    "version": 3
   },
   "file_extension": ".py",
   "mimetype": "text/x-python",
   "name": "python",
   "nbconvert_exporter": "python",
   "pygments_lexer": "ipython3",
   "version": "3.6.9"
  }
 },
 "nbformat": 4,
 "nbformat_minor": 4
}
