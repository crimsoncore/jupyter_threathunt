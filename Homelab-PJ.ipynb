{
 "cells": [
  {
   "cell_type": "markdown",
   "metadata": {},
   "source": [
    "# ANSIBLE HOMELAB PJ"
   ]
  },
  {
   "cell_type": "markdown",
   "metadata": {},
   "source": [
    "List Ansible directory"
   ]
  },
  {
   "cell_type": "code",
   "execution_count": null,
   "metadata": {
    "collapsed": true
   },
   "outputs": [],
   "source": [
    "cd /home/coder/project/project_threathunt/ansible_threathunt/esxi-pj/"
   ]
  },
  {
   "cell_type": "code",
   "execution_count": null,
   "metadata": {
    "collapsed": true
   },
   "outputs": [],
   "source": [
    "ls -la"
   ]
  },
  {
   "cell_type": "markdown",
   "metadata": {},
   "source": [
    "## Configure Domain Controller"
   ]
  },
  {
   "cell_type": "code",
   "execution_count": null,
   "metadata": {
    "collapsed": true
   },
   "outputs": [],
   "source": [
    "!ansible-playbook -i ./hosts-pj-esxi  --extra-vars \"ansible_python_interpreter=/usr/bin/python3\" ../lab_step_0_domain.yml -e @th-pj-home.yml"
   ]
  },
  {
   "cell_type": "code",
   "execution_count": null,
   "metadata": {
    "collapsed": true
   },
   "outputs": [],
   "source": [
    "!ansible-playbook -i ./hosts-pj-esxi  --extra-vars \"ansible_python_interpreter=/usr/bin/python3\" ./dc_add_dns.yml -e @th-pj-home.yml"
   ]
  },
  {
   "cell_type": "markdown",
   "metadata": {},
   "source": [
    "## Configure windows clients"
   ]
  },
  {
   "cell_type": "code",
   "execution_count": null,
   "metadata": {
    "collapsed": true
   },
   "outputs": [],
   "source": [
    "!ansible-playbook -i ./hosts-pj-esxi --extra-vars \"ansible_python_interpreter=/usr/bin/python3\" ../lab_step_2_ws.yml -e @th-pj-home.yml"
   ]
  },
  {
   "cell_type": "markdown",
   "metadata": {},
   "source": [
    "## Configure ELK"
   ]
  },
  {
   "cell_type": "code",
   "execution_count": null,
   "metadata": {
    "collapsed": true
   },
   "outputs": [],
   "source": [
    "!ssh-keygen -f \"/home/coder/.ssh/known_hosts\" -R \"192.168.20.117\""
   ]
  },
  {
   "cell_type": "code",
   "execution_count": 1,
   "metadata": {},
   "outputs": [
    {
     "name": "stdout",
     "output_type": "stream",
     "text": [
      "\u001b[0;31mERROR! the playbook: ./ubuntu_elk.yml could not be found\u001b[0m\r\n",
      "\u001b[0;31m\u001b[0m"
     ]
    }
   ],
   "source": [
    "!ansible-playbook -i ./hosts-pj-esxi --extra-vars \"ansible_python_interpreter=/usr/bin/python3\" ./ubuntu_elk.yml -e @th-pj.yml"
   ]
  },
  {
   "cell_type": "markdown",
   "metadata": {},
   "source": [
    "## Configure MQ"
   ]
  },
  {
   "cell_type": "code",
   "execution_count": null,
   "metadata": {
    "collapsed": true
   },
   "outputs": [],
   "source": [
    "!ssh-keygen -f \"/home/coder/.ssh/known_hosts\" -R \"192.168.20.120\""
   ]
  },
  {
   "cell_type": "code",
   "execution_count": 12,
   "metadata": {
    "collapsed": true
   },
   "outputs": [
    {
     "name": "stdout",
     "output_type": "stream",
     "text": [
      "\u001b[0;35m[DEPRECATION WARNING]: The TRANSFORM_INVALID_GROUP_CHARS settings is set to \u001b[0m\n",
      "\u001b[0;35mallow bad characters in group names by default, this will change, but still be \u001b[0m\n",
      "\u001b[0;35muser configurable on deprecation. This feature will be removed in version 2.10.\u001b[0m\n",
      "\u001b[0;35m Deprecation warnings can be disabled by setting deprecation_warnings=False in \u001b[0m\n",
      "\u001b[0;35mansible.cfg.\u001b[0m\n",
      "\u001b[0;35m\u001b[0m\u001b[1;35m[WARNING]: Invalid characters were found in group names but not replaced, use\u001b[0m\n",
      "\u001b[1;35m-vvvv to see details\u001b[0m\n",
      "\u001b[1;35m\u001b[0m\n",
      "PLAY [mq] **********************************************************************\n",
      "\n",
      "TASK [Gathering Facts] *********************************************************\n",
      "\u001b[0;32mok: [MQ]\u001b[0m\n",
      "\u001b[0;32m\u001b[0m\n",
      "TASK [../roles/mq_install_ssh_keys : Create MQ temp directory] *****************\n",
      "\u001b[0;32mok: [MQ]\u001b[0m\n",
      "\u001b[0;32m\u001b[0m\n",
      "TASK [../roles/mq_install_ssh_keys : Create root .ssh folder] ******************\n",
      "\u001b[0;32mok: [MQ]\u001b[0m\n",
      "\u001b[0;32m\u001b[0m\n",
      "TASK [../roles/mq_install_ssh_keys : Generate run.sh] **************************\n",
      "\u001b[0;32mok: [MQ]\u001b[0m\n",
      "\u001b[0;32m\u001b[0m\n",
      "TASK [../roles/mq_install_ssh_keys : execute run.sh] ***************************\n",
      "\u001b[0;33mchanged: [MQ]\u001b[0m\n",
      "\u001b[0;33m\u001b[0m\n",
      "TASK [../roles/mq_install_ssh_keys : Generate id_rsa] **************************\n",
      "\u001b[1;35m[WARNING]: The value 1000 (type int) in a string field was converted to '1000'\u001b[0m\n",
      "\u001b[1;35m(type string). If this does not look like what you expect, quote the entire\u001b[0m\n",
      "\u001b[1;35mvalue to ensure it does not change.\u001b[0m\n",
      "\u001b[1;35m\u001b[0m\u001b[0;32mok: [MQ]\u001b[0m\n",
      "\u001b[0;32m\u001b[0m\n",
      "TASK [../roles/mq_install_ssh_keys : Generate id_rsa.pub] **********************\n",
      "\u001b[0;32mok: [MQ]\u001b[0m\n",
      "\u001b[0;32m\u001b[0m\n",
      "PLAY RECAP *********************************************************************\n",
      "\u001b[0;33mMQ\u001b[0m                         : \u001b[0;32mok=7   \u001b[0m \u001b[0;33mchanged=1   \u001b[0m unreachable=0    failed=0    skipped=0    rescued=0    ignored=0   \n",
      "\n"
     ]
    }
   ],
   "source": [
    "!ansible-playbook -i ./hosts-pj-esxi --extra-vars \"ansible_python_interpreter=/usr/bin/python3\" ./mq_rsa_keys.yml -e @th-pj-home.yml"
   ]
  },
  {
   "cell_type": "code",
   "execution_count": 32,
   "metadata": {},
   "outputs": [
    {
     "name": "stdout",
     "output_type": "stream",
     "text": [
      "\u001b[0;35m[DEPRECATION WARNING]: The TRANSFORM_INVALID_GROUP_CHARS settings is set to \u001b[0m\n",
      "\u001b[0;35mallow bad characters in group names by default, this will change, but still be \u001b[0m\n",
      "\u001b[0;35muser configurable on deprecation. This feature will be removed in version 2.10.\u001b[0m\n",
      "\u001b[0;35m Deprecation warnings can be disabled by setting deprecation_warnings=False in \u001b[0m\n",
      "\u001b[0;35mansible.cfg.\u001b[0m\n",
      "\u001b[0;35m\u001b[0m\u001b[1;35m[WARNING]: Invalid characters were found in group names but not replaced, use\u001b[0m\n",
      "\u001b[1;35m-vvvv to see details\u001b[0m\n",
      "\u001b[1;35m\u001b[0m\n",
      "PLAY [mq] **********************************************************************\n",
      "\n",
      "TASK [Gathering Facts] *********************************************************\n",
      "\u001b[0;32mok: [MQ]\u001b[0m\n",
      "\u001b[0;32m\u001b[0m\n",
      "TASK [docker : include_tasks] **************************************************\n",
      "\u001b[0;36mincluded: /home/coder/project/project_threathunt/ansible_threathunt/roles/docker/tasks/setup-Debian.yml for MQ\u001b[0m\n",
      "\u001b[0;36m\u001b[0m\n",
      "TASK [docker : Ensure old versions of Docker are not installed.] ***************\n",
      "\u001b[0;32mok: [MQ] => (item=docker)\u001b[0m\n",
      "\u001b[0;32m\u001b[0m\u001b[0;32mok: [MQ] => (item=docker-engine)\u001b[0m\n",
      "\u001b[0;32m\u001b[0m\n",
      "TASK [docker : Run the equivalent of \"apt-get update\" as a separate step] ******\n",
      "\u001b[0;33mchanged: [MQ]\u001b[0m\n",
      "\u001b[0;33m\u001b[0m\n",
      "TASK [docker : Upgrade all packages to the latest version] *********************\n",
      "\u001b[0;32mok: [MQ]\u001b[0m\n",
      "\u001b[0;32m\u001b[0m\n",
      "TASK [docker : Ensure dependencies are installed.] *****************************\n",
      "\u001b[0;35m[DEPRECATION WARNING]: Invoking \"apt\" only once while using a loop via \u001b[0m\n",
      "\u001b[0;35msquash_actions is deprecated. Instead of using a loop to supply multiple items \u001b[0m\n",
      "\u001b[0;35mand specifying `name: \"{{ item }}\"`, please use `name: ['apt-transport-https', \u001b[0m\n",
      "\u001b[0;35m'ca-certificates', 'python3-pip']` and remove the loop. This feature will be \u001b[0m\n",
      "\u001b[0;35mremoved in version 2.11. Deprecation warnings can be disabled by setting \u001b[0m\n",
      "\u001b[0;35mdeprecation_warnings=False in ansible.cfg.\u001b[0m\n",
      "\u001b[0;35m\u001b[0m\u001b[0;32mok: [MQ] => (item=['apt-transport-https', 'ca-certificates', 'python3-pip'])\u001b[0m\n",
      "\u001b[0;32m\u001b[0m\n",
      "TASK [docker : Add Docker apt key.] ********************************************\n",
      "\u001b[0;32mok: [MQ]\u001b[0m\n",
      "\u001b[0;32m\u001b[0m\n",
      "TASK [docker : Ensure curl is present (on older systems without SNI).] *********\n",
      "\u001b[0;36mskipping: [MQ]\u001b[0m\n",
      "\u001b[0;36m\u001b[0m\n",
      "TASK [docker : Add Docker apt key (alternative for older systems without SNI).] ***\n",
      "\u001b[0;36mskipping: [MQ]\u001b[0m\n",
      "\u001b[0;36m\u001b[0m\n",
      "TASK [docker : Add Docker repository.] *****************************************\n",
      "\u001b[0;32mok: [MQ]\u001b[0m\n",
      "\u001b[0;32m\u001b[0m\n",
      "TASK [docker : Removing installed docker-py in favor of docker python library] ***\n",
      "\u001b[0;32mok: [MQ]\u001b[0m\n",
      "\u001b[0;32m\u001b[0m\n",
      "TASK [docker : Install docker python library] **********************************\n",
      "\u001b[0;32mok: [MQ]\u001b[0m\n",
      "\u001b[0;32m\u001b[0m\n",
      "TASK [docker : Create Docker systemd directory directory] **********************\n",
      "\u001b[0;32mok: [MQ]\u001b[0m\n",
      "\u001b[0;32m\u001b[0m\n",
      "TASK [docker : Add parameters for remote docker management] ********************\n",
      "\u001b[0;32mok: [MQ]\u001b[0m\n",
      "\u001b[0;32m\u001b[0m\n",
      "TASK [docker : Reload systemd daemon] ******************************************\n",
      "\u001b[0;32mok: [MQ]\u001b[0m\n",
      "\u001b[0;32m\u001b[0m\n",
      "TASK [docker : Install Docker.] ************************************************\n",
      "\u001b[0;32mok: [MQ]\u001b[0m\n",
      "\u001b[0;32m\u001b[0m\n",
      "TASK [docker : Ensure Docker is started and enabled at boot.] ******************\n",
      "\u001b[0;32mok: [MQ]\u001b[0m\n",
      "\u001b[0;32m\u001b[0m\n",
      "TASK [docker : include_tasks] **************************************************\n",
      "\u001b[0;36mincluded: /home/coder/project/project_threathunt/ansible_threathunt/roles/docker/tasks/docker-compose.yml for MQ\u001b[0m\n",
      "\u001b[0;36m\u001b[0m\n",
      "TASK [docker : Check current docker-compose version.] **************************\n",
      "\u001b[0;32mok: [MQ]\u001b[0m\n",
      "\u001b[0;32m\u001b[0m\n",
      "TASK [docker : Delete existing docker-compose version if it's different.] ******\n",
      "\u001b[0;36mskipping: [MQ]\u001b[0m\n",
      "\u001b[0;36m\u001b[0m\n",
      "TASK [docker : Install Docker Compose (if configured).] ************************\n",
      "\u001b[0;32mok: [MQ]\u001b[0m\n",
      "\u001b[0;32m\u001b[0m\n",
      "TASK [docker : include_tasks] **************************************************\n",
      "\u001b[0;35m[DEPRECATION WARNING]: evaluating 'docker_users' as a bare variable, this \u001b[0m\n",
      "\u001b[0;35mbehaviour will go away and you might need to add |bool to the expression in the\u001b[0m\n",
      "\u001b[0;35m future. Also see CONDITIONAL_BARE_VARS configuration toggle. This feature will\u001b[0m\n",
      "\u001b[0;35m be removed in version 2.12. Deprecation warnings can be disabled by setting \u001b[0m\n",
      "\u001b[0;35mdeprecation_warnings=False in ansible.cfg.\u001b[0m\n",
      "\u001b[0;35m\u001b[0m\u001b[0;36mincluded: /home/coder/project/project_threathunt/ansible_threathunt/roles/docker/tasks/docker-users.yml for MQ\u001b[0m\n",
      "\u001b[0;36m\u001b[0m\n",
      "TASK [docker : Ensure docker users are added to the docker group.] *************\n",
      "\u001b[0;32mok: [MQ] => (item=vagrant)\u001b[0m\n",
      "\u001b[0;32m\u001b[0m\n",
      "TASK [git-clone : git clone threathunt] ****************************************\n",
      "\u001b[0;33mchanged: [MQ]\u001b[0m\n",
      "\u001b[0;33m\u001b[0m\n",
      "TASK [git-clone : git clone wiki] **********************************************\n",
      "\u001b[0;32mok: [MQ]\u001b[0m\n",
      "\u001b[0;32m\u001b[0m\n",
      "TASK [traefik_mq : Create Traefik directory] ***********************************\n",
      "\u001b[0;32mok: [MQ]\u001b[0m\n",
      "\u001b[0;32m\u001b[0m\n",
      "TASK [traefik_mq : Generate traefik.yml] ***************************************\n",
      "\u001b[0;32mok: [MQ]\u001b[0m\n",
      "\u001b[0;32m\u001b[0m\n",
      "TASK [traefik_mq : Generate config.yml] ****************************************\n",
      "\u001b[0;32mok: [MQ]\u001b[0m\n",
      "\u001b[0;32m\u001b[0m\n",
      "TASK [traefik_mq : Make sure acme.json exists, if not create it] ***************\n",
      "\u001b[0;33mchanged: [MQ]\u001b[0m\n",
      "\u001b[0;33m\u001b[0m\n",
      "TASK [traefik_mq : Create traefik network] *************************************\n",
      "\u001b[0;32mok: [MQ]\u001b[0m\n",
      "\u001b[0;32m\u001b[0m\n",
      "TASK [traefik_mq : Install Traefik] ********************************************\n",
      "\u001b[0;35m[DEPRECATION WARNING]: Please note that docker_container handles networks \u001b[0m\n",
      "\u001b[0;35mslightly different than docker CLI. If you specify networks, the default \u001b[0m\n",
      "\u001b[0;35mnetwork will still be attached as the first network. (You can specify \u001b[0m\n",
      "\u001b[0;35mpurge_networks to remove all networks not explicitly listed.) This behavior \u001b[0m\n",
      "\u001b[0;35mwill change in Ansible 2.12. You can change the behavior now by setting the new\u001b[0m\n",
      "\u001b[0;35m `networks_cli_compatible` option to `yes`, and remove this warning by setting \u001b[0m\n",
      "\u001b[0;35mit to `no`. This feature will be removed in version 2.12. Deprecation warnings \u001b[0m\n",
      "\u001b[0;35mcan be disabled by setting deprecation_warnings=False in ansible.cfg.\u001b[0m\n",
      "\u001b[0;35m\u001b[0m\u001b[0;33mchanged: [MQ]\u001b[0m\n",
      "\u001b[0;33m\u001b[0m\n",
      "TASK [portainer_mq : Create traefik network] ***********************************\n",
      "\u001b[0;32mok: [MQ]\u001b[0m\n",
      "\u001b[0;32m\u001b[0m\n",
      "TASK [portainer_mq : Install Portainer on each docker host] ********************\n",
      "\u001b[0;32mok: [MQ]\u001b[0m\n",
      "\u001b[0;32m\u001b[0m\n",
      "TASK [guacamole : Create traefik network] **************************************\n",
      "\u001b[0;32mok: [MQ]\u001b[0m\n",
      "\u001b[0;32m\u001b[0m\n",
      "TASK [guacamole : Install Guacamole] *******************************************\n",
      "\u001b[0;32mok: [MQ]\u001b[0m\n",
      "\u001b[0;32m\u001b[0m\n",
      "TASK [guacamole : Install Guacamole Daemon] ************************************\n",
      "\u001b[0;32mok: [MQ]\u001b[0m\n",
      "\u001b[0;32m\u001b[0m\n",
      "TASK [rabbitmq : Create traefik network] ***************************************\n",
      "\u001b[0;32mok: [MQ]\u001b[0m\n",
      "\u001b[0;32m\u001b[0m\n",
      "TASK [rabbitmq : Install Rabbitmq Container] ***********************************\n",
      "\u001b[0;32mok: [MQ]\u001b[0m\n",
      "\u001b[0;32m\u001b[0m\n",
      "TASK [logstash_mq : Create traefik network] ************************************\n",
      "\u001b[0;32mok: [MQ]\u001b[0m\n",
      "\u001b[0;32m\u001b[0m\n",
      "TASK [logstash_mq : Install Logstash docker] ***********************************\n",
      "\u001b[0;32mok: [MQ]\u001b[0m\n",
      "\u001b[0;32m\u001b[0m\n",
      "TASK [mdbook : Create traefik network] *****************************************\n",
      "\u001b[0;32mok: [MQ]\u001b[0m\n",
      "\u001b[0;32m\u001b[0m\n",
      "TASK [mdbook : Install Mdbook docker] ******************************************\n",
      "\u001b[0;32mok: [MQ]\u001b[0m\n",
      "\u001b[0;32m\u001b[0m\n",
      "TASK [add hostname to hosts file] **********************************************\n",
      "\u001b[0;33mchanged: [MQ]\u001b[0m\n",
      "\u001b[0;33m\u001b[0m\n",
      "PLAY RECAP *********************************************************************\n",
      "\u001b[0;33mMQ\u001b[0m                         : \u001b[0;32mok=40  \u001b[0m \u001b[0;33mchanged=5   \u001b[0m unreachable=0    failed=0    \u001b[0;36mskipped=3   \u001b[0m rescued=0    ignored=0   \n",
      "\n"
     ]
    }
   ],
   "source": [
    "!ansible-playbook -i ./hosts-pj-esxi --extra-vars \"ansible_python_interpreter=/usr/bin/python3\" ../lab_step_1_elk-mq.yml -e @th-pj-home.yml"
   ]
  },
  {
   "cell_type": "markdown",
   "metadata": {},
   "source": [
    "## Configure Fileserver"
   ]
  },
  {
   "cell_type": "code",
   "execution_count": null,
   "metadata": {
    "collapsed": true
   },
   "outputs": [],
   "source": [
    "!ansible-playbook -i ../ansible_threathunt/hosts-pj-esxi --extra-vars \"ansible_python_interpreter=/usr/bin/python3\" ../ansible_threathunt/lab_step_4_fileserver.yml -e @th-pj.yml"
   ]
  },
  {
   "cell_type": "markdown",
   "metadata": {},
   "source": [
    "# SOLUTIONS"
   ]
  },
  {
   "cell_type": "code",
   "execution_count": null,
   "metadata": {
    "collapsed": true
   },
   "outputs": [],
   "source": [
    "!ansible-playbook -i ../ansible_threathunt/hosts-pj-esxi --extra-vars \"ansible_python_interpreter=/usr/bin/python3\" ../ansible_threathunt/solutions.yml -e @th-pj.yml"
   ]
  },
  {
   "cell_type": "markdown",
   "metadata": {},
   "source": [
    "# PROJECTS"
   ]
  },
  {
   "cell_type": "code",
   "execution_count": 34,
   "metadata": {},
   "outputs": [
    {
     "name": "stdout",
     "output_type": "stream",
     "text": [
      "\u001b[0;35m[DEPRECATION WARNING]: The TRANSFORM_INVALID_GROUP_CHARS settings is set to \u001b[0m\n",
      "\u001b[0;35mallow bad characters in group names by default, this will change, but still be \u001b[0m\n",
      "\u001b[0;35muser configurable on deprecation. This feature will be removed in version 2.10.\u001b[0m\n",
      "\u001b[0;35m Deprecation warnings can be disabled by setting deprecation_warnings=False in \u001b[0m\n",
      "\u001b[0;35mansible.cfg.\u001b[0m\n",
      "\u001b[0;35m\u001b[0m\u001b[1;35m[WARNING]: Invalid characters were found in group names but not replaced, use\u001b[0m\n",
      "\u001b[1;35m-vvvv to see details\u001b[0m\n",
      "\u001b[1;35m\u001b[0m\n",
      "PLAY [kali] ********************************************************************\n",
      "\n",
      "TASK [Gathering Facts] *********************************************************\n",
      "\u001b[0;32mok: [ELK]\u001b[0m\n",
      "\u001b[0;32m\u001b[0m\n",
      "TASK [git pull threathunt_student] *********************************************\n",
      "\u001b[0;33mchanged: [ELK]\u001b[0m\n",
      "\u001b[0;33m\u001b[0m\n",
      "TASK [make script executable] **************************************************\n",
      "\u001b[1;35m[WARNING]: Consider using the file module with mode rather than running\u001b[0m\n",
      "\u001b[1;35m'chmod'.  If you need to use command because file is insufficient you can add\u001b[0m\n",
      "\u001b[1;35m'warn: false' to this command task or set 'command_warnings=False' in\u001b[0m\n",
      "\u001b[1;35mansible.cfg to get rid of this message.\u001b[0m\n",
      "\u001b[1;35m\u001b[0m\u001b[0;33mchanged: [ELK]\u001b[0m\n",
      "\u001b[0;33m\u001b[0m\n",
      "TASK [project 666 bloodhound] **************************************************\n",
      "\u001b[0;32mok: [ELK]\u001b[0m\n",
      "\u001b[0;32m\u001b[0m\n",
      "TASK [project 666 msf] *********************************************************\n",
      "\u001b[0;33mchanged: [ELK]\u001b[0m\n",
      "\u001b[0;33m\u001b[0m\n",
      "PLAY RECAP *********************************************************************\n",
      "\u001b[0;33mELK\u001b[0m                        : \u001b[0;32mok=5   \u001b[0m \u001b[0;33mchanged=3   \u001b[0m unreachable=0    failed=0    skipped=0    rescued=0    ignored=0   \n",
      "\n"
     ]
    }
   ],
   "source": [
    "!ansible-playbook -i hosts-pj-esxi --extra-vars \"ansible_python_interpreter=/usr/bin/python3\" ../project-666.yml -e @th-pj-home.yml"
   ]
  },
  {
   "cell_type": "code",
   "execution_count": null,
   "metadata": {
    "collapsed": true
   },
   "outputs": [],
   "source": []
  },
  {
   "cell_type": "markdown",
   "metadata": {},
   "source": [
    "# REINSTALL"
   ]
  },
  {
   "cell_type": "code",
   "execution_count": 17,
   "metadata": {
    "collapsed": true
   },
   "outputs": [
    {
     "name": "stdout",
     "output_type": "stream",
     "text": [
      "\u001b[0;35m[DEPRECATION WARNING]: The TRANSFORM_INVALID_GROUP_CHARS settings is set to \u001b[0m\n",
      "\u001b[0;35mallow bad characters in group names by default, this will change, but still be \u001b[0m\n",
      "\u001b[0;35muser configurable on deprecation. This feature will be removed in version 2.10.\u001b[0m\n",
      "\u001b[0;35m Deprecation warnings can be disabled by setting deprecation_warnings=False in \u001b[0m\n",
      "\u001b[0;35mansible.cfg.\u001b[0m\n",
      "\u001b[0;35m\u001b[0m\u001b[1;35m[WARNING]: Invalid characters were found in group names but not replaced, use\u001b[0m\n",
      "\u001b[1;35m-vvvv to see details\u001b[0m\n",
      "\u001b[1;35m\u001b[0m\n",
      "PLAY [ws,servers,dcs] **********************************************************\n",
      "\n",
      "TASK [Gathering Facts] *********************************************************\n",
      "\u001b[0;32mok: [FS01]\u001b[0m\n",
      "\u001b[0;32m\u001b[0m\u001b[0;32mok: [WS-1]\u001b[0m\n",
      "\u001b[0;32m\u001b[0m\u001b[0;32mok: [DC01]\u001b[0m\n",
      "\u001b[0;32m\u001b[0m\n",
      "TASK [../roles/sysmon : Create directory] **************************************\n",
      "\u001b[0;32mok: [FS01]\u001b[0m\n",
      "\u001b[0;32m\u001b[0m\u001b[0;32mok: [WS-1]\u001b[0m\n",
      "\u001b[0;32m\u001b[0m\u001b[0;32mok: [DC01]\u001b[0m\n",
      "\u001b[0;32m\u001b[0m\n",
      "TASK [../roles/sysmon : Get sysmon zip] ****************************************\n",
      "\u001b[0;32mok: [DC01]\u001b[0m\n",
      "\u001b[0;32m\u001b[0m\u001b[0;32mok: [FS01]\u001b[0m\n",
      "\u001b[0;32m\u001b[0m\u001b[0;32mok: [WS-1]\u001b[0m\n",
      "\u001b[0;32m\u001b[0m\n",
      "TASK [../roles/sysmon : Unzip sysmon] ******************************************\n",
      "\u001b[0;33mchanged: [DC01]\u001b[0m\n",
      "\u001b[0;33m\u001b[0m\u001b[0;33mchanged: [FS01]\u001b[0m\n",
      "\u001b[0;33m\u001b[0m\u001b[0;33mchanged: [WS-1]\u001b[0m\n",
      "\u001b[0;33m\u001b[0m\n",
      "TASK [../roles/sysmon : Copy sysmon config] ************************************\n",
      "\u001b[0;32mok: [DC01]\u001b[0m\n",
      "\u001b[0;32m\u001b[0m\u001b[0;32mok: [FS01]\u001b[0m\n",
      "\u001b[0;32m\u001b[0m\u001b[0;32mok: [WS-1]\u001b[0m\n",
      "\u001b[0;32m\u001b[0m\n",
      "TASK [../roles/sysmon : check sysmon service] **********************************\n",
      "\u001b[0;32mok: [DC01]\u001b[0m\n",
      "\u001b[0;32m\u001b[0m\u001b[0;32mok: [FS01]\u001b[0m\n",
      "\u001b[0;32m\u001b[0m\u001b[0;32mok: [WS-1]\u001b[0m\n",
      "\u001b[0;32m\u001b[0m\n",
      "TASK [../roles/sysmon : Run sysmon] ********************************************\n",
      "\u001b[0;36mskipping: [WS-1]\u001b[0m\n",
      "\u001b[0;36m\u001b[0m\u001b[0;36mskipping: [FS01]\u001b[0m\n",
      "\u001b[0;36m\u001b[0m\u001b[0;36mskipping: [DC01]\u001b[0m\n",
      "\u001b[0;36m\u001b[0m\n",
      "TASK [../roles/sysmon : reload sysmon config] **********************************\n",
      "\u001b[0;33mchanged: [DC01]\u001b[0m\n",
      "\u001b[0;33m\u001b[0m\u001b[0;33mchanged: [FS01]\u001b[0m\n",
      "\u001b[0;33m\u001b[0m\u001b[0;33mchanged: [WS-1]\u001b[0m\n",
      "\u001b[0;33m\u001b[0m\n",
      "TASK [../roles/winlogbeat : Create directory] **********************************\n",
      "\u001b[0;32mok: [FS01]\u001b[0m\n",
      "\u001b[0;32m\u001b[0m\u001b[0;32mok: [DC01]\u001b[0m\n",
      "\u001b[0;32m\u001b[0m\u001b[0;32mok: [WS-1]\u001b[0m\n",
      "\u001b[0;32m\u001b[0m\n",
      "TASK [../roles/winlogbeat : Get winlogbeat zip] ********************************\n",
      "\u001b[0;36mskipping: [WS-1]\u001b[0m\n",
      "\u001b[0;36m\u001b[0m\u001b[0;36mskipping: [FS01]\u001b[0m\n",
      "\u001b[0;36m\u001b[0m\u001b[0;36mskipping: [DC01]\u001b[0m\n",
      "\u001b[0;36m\u001b[0m\n",
      "TASK [../roles/winlogbeat : Unzip winlogbeat] **********************************\n",
      "\u001b[0;36mskipping: [WS-1]\u001b[0m\n",
      "\u001b[0;36m\u001b[0m\u001b[0;36mskipping: [FS01]\u001b[0m\n",
      "\u001b[0;36m\u001b[0m\u001b[0;36mskipping: [DC01]\u001b[0m\n",
      "\u001b[0;36m\u001b[0m\n",
      "TASK [../roles/winlogbeat : Install the service via script] ********************\n",
      "\u001b[0;36mskipping: [WS-1]\u001b[0m\n",
      "\u001b[0;36m\u001b[0m\u001b[0;36mskipping: [FS01]\u001b[0m\n",
      "\u001b[0;36m\u001b[0m\u001b[0;36mskipping: [DC01]\u001b[0m\n",
      "\u001b[0;36m\u001b[0m\n",
      "TASK [../roles/winlogbeat : Copy WinLogBeat configuration.] ********************\n",
      "\u001b[0;33mchanged: [FS01]\u001b[0m\n",
      "\u001b[0;33m\u001b[0m\u001b[0;33mchanged: [DC01]\u001b[0m\n",
      "\u001b[0;33m\u001b[0m\u001b[0;33mchanged: [WS-1]\u001b[0m\n",
      "\u001b[0;33m\u001b[0m\n",
      "TASK [../roles/winlogbeat : restart winlogbeat] ********************************\n",
      "\u001b[0;33mchanged: [DC01]\u001b[0m\n",
      "\u001b[0;33m\u001b[0m\u001b[0;33mchanged: [FS01]\u001b[0m\n",
      "\u001b[0;33m\u001b[0m\u001b[0;33mchanged: [WS-1]\u001b[0m\n",
      "\u001b[0;33m\u001b[0m\n",
      "PLAY RECAP *********************************************************************\n",
      "\u001b[0;33mDC01\u001b[0m                       : \u001b[0;32mok=10  \u001b[0m \u001b[0;33mchanged=4   \u001b[0m unreachable=0    failed=0    \u001b[0;36mskipped=4   \u001b[0m rescued=0    ignored=0   \n",
      "\u001b[0;33mFS01\u001b[0m                       : \u001b[0;32mok=10  \u001b[0m \u001b[0;33mchanged=4   \u001b[0m unreachable=0    failed=0    \u001b[0;36mskipped=4   \u001b[0m rescued=0    ignored=0   \n",
      "\u001b[0;33mWS-1\u001b[0m                       : \u001b[0;32mok=10  \u001b[0m \u001b[0;33mchanged=4   \u001b[0m unreachable=0    failed=0    \u001b[0;36mskipped=4   \u001b[0m rescued=0    ignored=0   \n",
      "\n"
     ]
    }
   ],
   "source": [
    "!ansible-playbook -i ./hosts-pj-esxi --extra-vars \"ansible_python_interpreter=/usr/bin/python3\" ./reinstall_sysmon_winlogbeat.yml -e @th-pj-home.yml"
   ]
  },
  {
   "cell_type": "code",
   "execution_count": null,
   "metadata": {
    "collapsed": true
   },
   "outputs": [],
   "source": []
  }
 ],
 "metadata": {
  "kernelspec": {
   "display_name": "Python 3",
   "language": "python",
   "name": "python3"
  },
  "language_info": {
   "codemirror_mode": {
    "name": "ipython",
    "version": 3
   },
   "file_extension": ".py",
   "mimetype": "text/x-python",
   "name": "python",
   "nbconvert_exporter": "python",
   "pygments_lexer": "ipython3",
   "version": "3.6.9"
  }
 },
 "nbformat": 4,
 "nbformat_minor": 4
}
