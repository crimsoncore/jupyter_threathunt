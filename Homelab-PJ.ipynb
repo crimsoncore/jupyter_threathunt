{
 "cells": [
  {
   "cell_type": "markdown",
   "metadata": {},
   "source": [
    "# ANSIBLE HOMELAB PJ"
   ]
  },
  {
   "cell_type": "markdown",
   "metadata": {},
   "source": [
    "List Ansible directory"
   ]
  },
  {
   "cell_type": "code",
   "execution_count": null,
   "metadata": {},
   "outputs": [],
   "source": [
    "cd /home/coder/project/project_threathunt/ansible_threathunt"
   ]
  },
  {
   "cell_type": "code",
   "execution_count": null,
   "metadata": {},
   "outputs": [],
   "source": [
    "ls -la"
   ]
  },
  {
   "cell_type": "markdown",
   "metadata": {},
   "source": [
    "## Configure Domain Controller"
   ]
  },
  {
   "cell_type": "code",
   "execution_count": null,
   "metadata": {},
   "outputs": [],
   "source": [
    "!ansible-playbook -i ../ansible_threathunt/hosts-pj-home  --extra-vars \"ansible_python_interpreter=/usr/bin/python3\" ../ansible_threathunt/lab_step_0_domain.yml -e @th-pj.yml"
   ]
  },
  {
   "cell_type": "markdown",
   "metadata": {},
   "source": [
    "## Configure windows clients"
   ]
  },
  {
   "cell_type": "code",
   "execution_count": null,
   "metadata": {},
   "outputs": [],
   "source": [
    "!ansible-playbook -i ../ansible_threathunt/hosts-pj-home --extra-vars \"ansible_python_interpreter=/usr/bin/python3\" ../ansible_threathunt/lab_step_2_ws.yml -e @th-pj.yml"
   ]
  },
  {
   "cell_type": "markdown",
   "metadata": {},
   "source": [
    "## Configure ELK"
   ]
  },
  {
   "cell_type": "code",
   "execution_count": null,
   "metadata": {},
   "outputs": [],
   "source": [
    "!ssh-keygen -f \"/home/coder/.ssh/known_hosts\" -R \"10.0.0.5\""
   ]
  },
  {
   "cell_type": "code",
   "execution_count": 16,
   "metadata": {},
   "outputs": [
    {
     "name": "stdout",
     "output_type": "stream",
     "text": [
      "\u001b[0;35m[DEPRECATION WARNING]: The TRANSFORM_INVALID_GROUP_CHARS settings is set to \u001b[0m\n",
      "\u001b[0;35mallow bad characters in group names by default, this will change, but still be \u001b[0m\n",
      "\u001b[0;35muser configurable on deprecation. This feature will be removed in version 2.10.\u001b[0m\n",
      "\u001b[0;35m Deprecation warnings can be disabled by setting deprecation_warnings=False in \u001b[0m\n",
      "\u001b[0;35mansible.cfg.\u001b[0m\n",
      "\u001b[0;35m\u001b[0m\u001b[1;35m[WARNING]: Invalid characters were found in group names but not replaced, use\u001b[0m\n",
      "\u001b[1;35m-vvvv to see details\u001b[0m\n",
      "\u001b[1;35m\u001b[0m\n",
      "PLAY [elk] *********************************************************************\n",
      "\n",
      "TASK [Gathering Facts] *********************************************************\n",
      "\u001b[0;32mok: [ELK]\u001b[0m\n",
      "\u001b[0;32m\u001b[0m\n",
      "TASK [docker : include_tasks] **************************************************\n",
      "\u001b[0;36mincluded: /home/coder/project/project_threathunt/ansible_threathunt/roles/docker/tasks/setup-Debian.yml for ELK\u001b[0m\n",
      "\u001b[0;36m\u001b[0m\n",
      "TASK [docker : Ensure old versions of Docker are not installed.] ***************\n",
      "\u001b[0;32mok: [ELK] => (item=docker)\u001b[0m\n",
      "\u001b[0;32m\u001b[0m\u001b[0;32mok: [ELK] => (item=docker-engine)\u001b[0m\n",
      "\u001b[0;32m\u001b[0m\n",
      "TASK [docker : Run the equivalent of \"apt-get update\" as a separate step] ******\n",
      "\u001b[0;33mchanged: [ELK]\u001b[0m\n",
      "\u001b[0;33m\u001b[0m\n",
      "TASK [docker : Upgrade all packages to the latest version] *********************\n",
      "\u001b[0;33mchanged: [ELK]\u001b[0m\n",
      "\u001b[0;33m\u001b[0m\n",
      "TASK [docker : Ensure dependencies are installed.] *****************************\n",
      "\u001b[0;35m[DEPRECATION WARNING]: Invoking \"apt\" only once while using a loop via \u001b[0m\n",
      "\u001b[0;35msquash_actions is deprecated. Instead of using a loop to supply multiple items \u001b[0m\n",
      "\u001b[0;35mand specifying `name: \"{{ item }}\"`, please use `name: ['apt-transport-https', \u001b[0m\n",
      "\u001b[0;35m'ca-certificates', 'python3-pip']` and remove the loop. This feature will be \u001b[0m\n",
      "\u001b[0;35mremoved in version 2.11. Deprecation warnings can be disabled by setting \u001b[0m\n",
      "\u001b[0;35mdeprecation_warnings=False in ansible.cfg.\u001b[0m\n",
      "\u001b[0;35m\u001b[0m\u001b[0;33mchanged: [ELK] => (item=['apt-transport-https', 'ca-certificates', 'python3-pip'])\u001b[0m\n",
      "\u001b[0;33m\u001b[0m\n",
      "TASK [docker : Add Docker apt key.] ********************************************\n",
      "\u001b[0;33mchanged: [ELK]\u001b[0m\n",
      "\u001b[0;33m\u001b[0m\n",
      "TASK [docker : Ensure curl is present (on older systems without SNI).] *********\n",
      "\u001b[0;36mskipping: [ELK]\u001b[0m\n",
      "\u001b[0;36m\u001b[0m\n",
      "TASK [docker : Add Docker apt key (alternative for older systems without SNI).] ***\n",
      "\u001b[0;36mskipping: [ELK]\u001b[0m\n",
      "\u001b[0;36m\u001b[0m\n",
      "TASK [docker : Add Docker repository.] *****************************************\n",
      "\u001b[0;33mchanged: [ELK]\u001b[0m\n",
      "\u001b[0;33m\u001b[0m\n",
      "TASK [docker : Removing installed docker-py in favor of docker python library] ***\n",
      "\u001b[0;32mok: [ELK]\u001b[0m\n",
      "\u001b[0;32m\u001b[0m\n",
      "TASK [docker : Install docker python library] **********************************\n",
      "\u001b[0;33mchanged: [ELK]\u001b[0m\n",
      "\u001b[0;33m\u001b[0m\n",
      "TASK [docker : Create Docker systemd directory directory] **********************\n",
      "\u001b[0;33mchanged: [ELK]\u001b[0m\n",
      "\u001b[0;33m\u001b[0m\n",
      "TASK [docker : Add parameters for remote docker management] ********************\n",
      "\u001b[0;33mchanged: [ELK]\u001b[0m\n",
      "\u001b[0;33m\u001b[0m\n",
      "TASK [docker : Reload systemd daemon] ******************************************\n",
      "\u001b[0;32mok: [ELK]\u001b[0m\n",
      "\u001b[0;32m\u001b[0m\n",
      "TASK [docker : Install Docker.] ************************************************\n",
      "\u001b[0;33mchanged: [ELK]\u001b[0m\n",
      "\u001b[0;33m\u001b[0m\n",
      "TASK [docker : Ensure Docker is started and enabled at boot.] ******************\n",
      "\u001b[0;32mok: [ELK]\u001b[0m\n",
      "\u001b[0;32m\u001b[0m\n",
      "RUNNING HANDLER [docker : restart docker] **************************************\n",
      "\u001b[0;33mchanged: [ELK]\u001b[0m\n",
      "\u001b[0;33m\u001b[0m\n",
      "TASK [docker : include_tasks] **************************************************\n",
      "\u001b[0;36mincluded: /home/coder/project/project_threathunt/ansible_threathunt/roles/docker/tasks/docker-compose.yml for ELK\u001b[0m\n",
      "\u001b[0;36m\u001b[0m\n",
      "TASK [docker : Check current docker-compose version.] **************************\n",
      "\u001b[0;32mok: [ELK]\u001b[0m\n",
      "\u001b[0;32m\u001b[0m\n",
      "TASK [docker : Delete existing docker-compose version if it's different.] ******\n",
      "\u001b[0;36mskipping: [ELK]\u001b[0m\n",
      "\u001b[0;36m\u001b[0m\n",
      "TASK [docker : Install Docker Compose (if configured).] ************************\n",
      "\u001b[0;33mchanged: [ELK]\u001b[0m\n",
      "\u001b[0;33m\u001b[0m\n",
      "TASK [docker : include_tasks] **************************************************\n",
      "\u001b[0;35m[DEPRECATION WARNING]: evaluating 'docker_users' as a bare variable, this \u001b[0m\n",
      "\u001b[0;35mbehaviour will go away and you might need to add |bool to the expression in the\u001b[0m\n",
      "\u001b[0;35m future. Also see CONDITIONAL_BARE_VARS configuration toggle. This feature will\u001b[0m\n",
      "\u001b[0;35m be removed in version 2.12. Deprecation warnings can be disabled by setting \u001b[0m\n",
      "\u001b[0;35mdeprecation_warnings=False in ansible.cfg.\u001b[0m\n",
      "\u001b[0;35m\u001b[0m\u001b[0;36mincluded: /home/coder/project/project_threathunt/ansible_threathunt/roles/docker/tasks/docker-users.yml for ELK\u001b[0m\n",
      "\u001b[0;36m\u001b[0m\n",
      "TASK [docker : Ensure docker users are added to the docker group.] *************\n",
      "\u001b[0;33mchanged: [ELK] => (item=thadmin)\u001b[0m\n",
      "\u001b[0;33m\u001b[0m\n",
      "TASK [git-clone-student : git clone threathunt-student] ************************\n",
      "\u001b[0;33mchanged: [ELK]\u001b[0m\n",
      "\u001b[0;33m\u001b[0m\n",
      "TASK [mdbook : Create traefik network] *****************************************\n",
      "\u001b[0;33mchanged: [ELK]\u001b[0m\n",
      "\u001b[0;33m\u001b[0m\n",
      "TASK [mdbook : Install Mdbook docker] ******************************************\n",
      "\u001b[0;35m[DEPRECATION WARNING]: Please note that docker_container handles networks \u001b[0m\n",
      "\u001b[0;35mslightly different than docker CLI. If you specify networks, the default \u001b[0m\n",
      "\u001b[0;35mnetwork will still be attached as the first network. (You can specify \u001b[0m\n",
      "\u001b[0;35mpurge_networks to remove all networks not explicitly listed.) This behavior \u001b[0m\n",
      "\u001b[0;35mwill change in Ansible 2.12. You can change the behavior now by setting the new\u001b[0m\n",
      "\u001b[0;35m `networks_cli_compatible` option to `yes`, and remove this warning by setting \u001b[0m\n",
      "\u001b[0;35mit to `no`. This feature will be removed in version 2.12. Deprecation warnings \u001b[0m\n",
      "\u001b[0;35mcan be disabled by setting deprecation_warnings=False in ansible.cfg.\u001b[0m\n",
      "\u001b[0;35m\u001b[0m\u001b[0;33mchanged: [ELK]\u001b[0m\n",
      "\u001b[0;33m\u001b[0m\n",
      "TASK [add hostname to hosts file] **********************************************\n",
      "\u001b[0;33mchanged: [ELK]\u001b[0m\n",
      "\u001b[0;33m\u001b[0m\n",
      "PLAY RECAP *********************************************************************\n",
      "\u001b[0;33mELK\u001b[0m                        : \u001b[0;32mok=25  \u001b[0m \u001b[0;33mchanged=16  \u001b[0m unreachable=0    failed=0    \u001b[0;36mskipped=3   \u001b[0m rescued=0    ignored=0   \n",
      "\n"
     ]
    }
   ],
   "source": [
    "!ansible-playbook -i ../ansible_threathunt/hosts-pj-home --extra-vars \"ansible_python_interpreter=/usr/bin/python3\" ../ansible_threathunt/ubuntu_elk.yml -e @th-pj.yml"
   ]
  },
  {
   "cell_type": "code",
   "execution_count": null,
   "metadata": {},
   "outputs": [],
   "source": []
  },
  {
   "cell_type": "code",
   "execution_count": null,
   "metadata": {},
   "outputs": [],
   "source": []
  }
 ],
 "metadata": {
  "kernelspec": {
   "display_name": "Python 3",
   "language": "python",
   "name": "python3"
  },
  "language_info": {
   "codemirror_mode": {
    "name": "ipython",
    "version": 3
   },
   "file_extension": ".py",
   "mimetype": "text/x-python",
   "name": "python",
   "nbconvert_exporter": "python",
   "pygments_lexer": "ipython3",
   "version": "3.6.9"
  }
 },
 "nbformat": 4,
 "nbformat_minor": 4
}
