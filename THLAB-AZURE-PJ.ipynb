{
 "cells": [
  {
   "cell_type": "markdown",
   "metadata": {},
   "source": [
    "# TERRAFORM THLAB PJ"
   ]
  },
  {
   "cell_type": "code",
   "execution_count": 2,
   "metadata": {},
   "outputs": [
    {
     "name": "stdout",
     "output_type": "stream",
     "text": [
      "/home/coder/project/project_threathunt/terraform_threathunt\n"
     ]
    }
   ],
   "source": [
    "cd /home/coder/project/project_threathunt/terraform_threathunt"
   ]
  },
  {
   "cell_type": "code",
   "execution_count": 4,
   "metadata": {
    "collapsed": true
   },
   "outputs": [
    {
     "name": "stdout",
     "output_type": "stream",
     "text": [
      "total 180\r\n",
      "drwxr-xr-x 16 coder coder   512 Nov 10 12:57 \u001b[0m\u001b[38;5;5m.\u001b[0m/\r\n",
      "drwxr-xr-x 11 coder coder   352 Nov  9 14:48 \u001b[38;5;5m..\u001b[0m/\r\n",
      "-rw-r--r--  1 coder coder  6148 Mar 19  2020 .DS_Store\r\n",
      "drwxr-xr-x 15 coder coder   480 Nov 19 15:54 \u001b[38;5;5m.git\u001b[0m/\r\n",
      "-rw-r--r--  1 coder coder  1083 Aug 19 12:23 .gitignore\r\n",
      "-rw-r--r--  1 coder coder  4428 Nov  9 21:24 maint.tf\r\n",
      "drwxr-xr-x 10 coder coder   320 Aug 19 12:23 \u001b[38;5;5mmodules\u001b[0m/\r\n",
      "-rw-r--r--  1 coder coder 24314 Nov 15 10:17 pblaton.out\r\n",
      "-rw-r--r--  1 coder coder    58 Aug 19 12:23 provider.tf\r\n",
      "-rw-r--r--  1 coder coder  1508 Nov 10 12:56 README.md\r\n",
      "drwxr-xr-x  5 coder coder   160 Aug 12 14:02 \u001b[38;5;5m.terraform\u001b[0m/\r\n",
      "-rw-r--r--  1 coder coder    83 Nov 15 10:07 terraform-pj.tfvars\r\n",
      "-rw-r--r--  1 coder coder 96895 Aug 19 12:23 terraform.tfstate\r\n",
      "drwxr-xr-x  3 coder coder    96 Aug 19 12:23 \u001b[38;5;5mterraform.tfstate.d\u001b[0m/\r\n",
      "-rw-r--r--  1 coder coder 22592 Mar 24  2020 thout.out\r\n",
      "-rw-r--r--  1 coder coder  3294 Nov 19 15:53 variables.tf\r\n"
     ]
    }
   ],
   "source": [
    "ls -la"
   ]
  },
  {
   "cell_type": "code",
   "execution_count": 15,
   "metadata": {
    "scrolled": true
   },
   "outputs": [
    {
     "name": "stdout",
     "output_type": "stream",
     "text": [
      "  default\r\n",
      "* THLAB\r\n",
      "\r\n"
     ]
    }
   ],
   "source": [
    "!terraform workspace list"
   ]
  },
  {
   "cell_type": "code",
   "execution_count": null,
   "metadata": {},
   "outputs": [],
   "source": [
    "!terraform workspace select THLAB"
   ]
  },
  {
   "cell_type": "code",
   "execution_count": 13,
   "metadata": {
    "collapsed": true
   },
   "outputs": [
    {
     "name": "stdout",
     "output_type": "stream",
     "text": [
      "\u001b[0m\u001b[1mRefreshing Terraform state in-memory prior to plan...\u001b[0m\n",
      "The refreshed state will be used to calculate this plan, but will not be\n",
      "persisted to local or remote state storage.\n",
      "\u001b[0m\n",
      "\u001b[0m\u001b[1mmodule.ubuntu_rabbitmq_vm.data.template_file.ubuntu_elk_data: Refreshing state...\u001b[0m\n",
      "\u001b[0m\u001b[1mmodule.kali_vm.data.template_file.data: Refreshing state...\u001b[0m\n",
      "\u001b[0m\u001b[1mazurerm_resource_group.rg_network: Refreshing state... [id=/subscriptions/61eef5f4-ff9e-4e99-b721-50cfc0a26fcf/resourceGroups/RG_THLAB]\u001b[0m\n",
      "\u001b[0m\u001b[1mmodule.windows_vm_client.azurerm_public_ip.W10_publicip[0]: Refreshing state... [id=/subscriptions/61eef5f4-ff9e-4e99-b721-50cfc0a26fcf/resourceGroups/RG_THLAB/providers/Microsoft.Network/publicIPAddresses/WS1-PublicIP]\u001b[0m\n",
      "\u001b[0m\u001b[1mmodule.windows_vm_dc.azurerm_network_security_group.nsg_rules: Refreshing state... [id=/subscriptions/61eef5f4-ff9e-4e99-b721-50cfc0a26fcf/resourceGroups/RG_THLAB/providers/Microsoft.Network/networkSecurityGroups/DC01-NetworkSecurityGroup]\u001b[0m\n",
      "\u001b[0m\u001b[1mmodule.ubuntu_rabbitmq_vm.azurerm_public_ip.ubuntu_publicip: Refreshing state... [id=/subscriptions/61eef5f4-ff9e-4e99-b721-50cfc0a26fcf/resourceGroups/RG_THLAB/providers/Microsoft.Network/publicIPAddresses/AZ-MQ-PublicIP]\u001b[0m\n",
      "\u001b[0m\u001b[1mmodule.kali_vm.azurerm_public_ip.publicip[0]: Refreshing state... [id=/subscriptions/61eef5f4-ff9e-4e99-b721-50cfc0a26fcf/resourceGroups/RG_THLAB/providers/Microsoft.Network/publicIPAddresses/AZ-KALI1-PublicIP]\u001b[0m\n",
      "\u001b[0m\u001b[1mmodule.windows_vm_file.azurerm_public_ip.W2K19_publicip: Refreshing state... [id=/subscriptions/61eef5f4-ff9e-4e99-b721-50cfc0a26fcf/resourceGroups/RG_THLAB/providers/Microsoft.Network/publicIPAddresses/FS01-PublicIP]\u001b[0m\n",
      "\u001b[0m\u001b[1mmodule.windows_vm_dc.azurerm_public_ip.W2K19_publicip: Refreshing state... [id=/subscriptions/61eef5f4-ff9e-4e99-b721-50cfc0a26fcf/resourceGroups/RG_THLAB/providers/Microsoft.Network/publicIPAddresses/DC01-PublicIP]\u001b[0m\n",
      "\u001b[0m\u001b[1mmodule.create_network.azurerm_virtual_network.mgmt_vnet: Refreshing state... [id=/subscriptions/61eef5f4-ff9e-4e99-b721-50cfc0a26fcf/resourceGroups/RG_THLAB/providers/Microsoft.Network/virtualNetworks/FLOAPP-VNet-Test]\u001b[0m\n",
      "\u001b[0m\u001b[1mmodule.windows_vm_file.azurerm_network_security_group.nsg_rules: Refreshing state... [id=/subscriptions/61eef5f4-ff9e-4e99-b721-50cfc0a26fcf/resourceGroups/RG_THLAB/providers/Microsoft.Network/networkSecurityGroups/FS01-NetworkSecurityGroup]\u001b[0m\n",
      "\u001b[0m\u001b[1mmodule.windows_vm_client.azurerm_network_security_group.nsg_rules[0]: Refreshing state... [id=/subscriptions/61eef5f4-ff9e-4e99-b721-50cfc0a26fcf/resourceGroups/RG_THLAB/providers/Microsoft.Network/networkSecurityGroups/WS1-NetworkSecurityGroup]\u001b[0m\n",
      "\u001b[0m\u001b[1mmodule.ubuntu_rabbitmq_vm.azurerm_network_security_group.nsg_rules: Refreshing state... [id=/subscriptions/61eef5f4-ff9e-4e99-b721-50cfc0a26fcf/resourceGroups/RG_THLAB/providers/Microsoft.Network/networkSecurityGroups/AZ-MQ-NetworkSecurityGroup]\u001b[0m\n",
      "\u001b[0m\u001b[1mmodule.kali_vm.azurerm_network_security_group.nsg_rules[0]: Refreshing state... [id=/subscriptions/61eef5f4-ff9e-4e99-b721-50cfc0a26fcf/resourceGroups/RG_THLAB/providers/Microsoft.Network/networkSecurityGroups/AZ-KALI1-NetworkSecurityGroup]\u001b[0m\n",
      "\u001b[0m\u001b[1mmodule.create_network.azurerm_subnet.mgmt_sub_db: Refreshing state... [id=/subscriptions/61eef5f4-ff9e-4e99-b721-50cfc0a26fcf/resourceGroups/RG_THLAB/providers/Microsoft.Network/virtualNetworks/FLOAPP-VNet-Test/subnets/LAN]\u001b[0m\n",
      "\u001b[0m\u001b[1mmodule.windows_vm_client.azurerm_network_interface.windows_nic[0]: Refreshing state... [id=/subscriptions/61eef5f4-ff9e-4e99-b721-50cfc0a26fcf/resourceGroups/RG_THLAB/providers/Microsoft.Network/networkInterfaces/WS1-NIC]\u001b[0m\n",
      "\u001b[0m\u001b[1mmodule.windows_vm_file.azurerm_network_interface.windows_nic: Refreshing state... [id=/subscriptions/61eef5f4-ff9e-4e99-b721-50cfc0a26fcf/resourceGroups/RG_THLAB/providers/Microsoft.Network/networkInterfaces/FS01-NIC]\u001b[0m\n",
      "\u001b[0m\u001b[1mmodule.windows_vm_dc.azurerm_network_interface.windows_nic: Refreshing state... [id=/subscriptions/61eef5f4-ff9e-4e99-b721-50cfc0a26fcf/resourceGroups/RG_THLAB/providers/Microsoft.Network/networkInterfaces/DC01-NIC]\u001b[0m\n",
      "\u001b[0m\u001b[1mmodule.ubuntu_rabbitmq_vm.azurerm_network_interface.ubuntu_nic: Refreshing state... [id=/subscriptions/61eef5f4-ff9e-4e99-b721-50cfc0a26fcf/resourceGroups/RG_THLAB/providers/Microsoft.Network/networkInterfaces/AZ-MQ-NIC]\u001b[0m\n",
      "\u001b[0m\u001b[1mmodule.kali_vm.azurerm_network_interface.nic[0]: Refreshing state... [id=/subscriptions/61eef5f4-ff9e-4e99-b721-50cfc0a26fcf/resourceGroups/RG_THLAB/providers/Microsoft.Network/networkInterfaces/AZ-KALI1-NIC]\u001b[0m\n",
      "\u001b[0m\u001b[1mmodule.windows_vm_file.azurerm_network_interface_security_group_association.apply_nsg: Refreshing state... [id=/subscriptions/61eef5f4-ff9e-4e99-b721-50cfc0a26fcf/resourceGroups/RG_THLAB/providers/Microsoft.Network/networkInterfaces/FS01-NIC|/subscriptions/61eef5f4-ff9e-4e99-b721-50cfc0a26fcf/resourceGroups/RG_THLAB/providers/Microsoft.Network/networkSecurityGroups/FS01-NetworkSecurityGroup]\u001b[0m\n",
      "\u001b[0m\u001b[1mmodule.kali_vm.azurerm_network_interface_security_group_association.apply_nsg[0]: Refreshing state... [id=/subscriptions/61eef5f4-ff9e-4e99-b721-50cfc0a26fcf/resourceGroups/RG_THLAB/providers/Microsoft.Network/networkInterfaces/AZ-KALI1-NIC|/subscriptions/61eef5f4-ff9e-4e99-b721-50cfc0a26fcf/resourceGroups/RG_THLAB/providers/Microsoft.Network/networkSecurityGroups/AZ-KALI1-NetworkSecurityGroup]\u001b[0m\n",
      "\u001b[0m\u001b[1mmodule.windows_vm_dc.azurerm_network_interface_security_group_association.apply_nsg: Refreshing state... [id=/subscriptions/61eef5f4-ff9e-4e99-b721-50cfc0a26fcf/resourceGroups/RG_THLAB/providers/Microsoft.Network/networkInterfaces/DC01-NIC|/subscriptions/61eef5f4-ff9e-4e99-b721-50cfc0a26fcf/resourceGroups/RG_THLAB/providers/Microsoft.Network/networkSecurityGroups/DC01-NetworkSecurityGroup]\u001b[0m\n",
      "\u001b[0m\u001b[1mmodule.ubuntu_rabbitmq_vm.azurerm_network_interface_security_group_association.apply_nsg: Refreshing state... [id=/subscriptions/61eef5f4-ff9e-4e99-b721-50cfc0a26fcf/resourceGroups/RG_THLAB/providers/Microsoft.Network/networkInterfaces/AZ-MQ-NIC|/subscriptions/61eef5f4-ff9e-4e99-b721-50cfc0a26fcf/resourceGroups/RG_THLAB/providers/Microsoft.Network/networkSecurityGroups/AZ-MQ-NetworkSecurityGroup]\u001b[0m\n",
      "\u001b[0m\u001b[1mmodule.windows_vm_client.azurerm_network_interface_security_group_association.apply_nsg[0]: Refreshing state... [id=/subscriptions/61eef5f4-ff9e-4e99-b721-50cfc0a26fcf/resourceGroups/RG_THLAB/providers/Microsoft.Network/networkInterfaces/WS1-NIC|/subscriptions/61eef5f4-ff9e-4e99-b721-50cfc0a26fcf/resourceGroups/RG_THLAB/providers/Microsoft.Network/networkSecurityGroups/WS1-NetworkSecurityGroup]\u001b[0m\n",
      "\u001b[0m\u001b[1mmodule.windows_vm_file.azurerm_virtual_machine.windows_dc: Refreshing state... [id=/subscriptions/61eef5f4-ff9e-4e99-b721-50cfc0a26fcf/resourceGroups/RG_THLAB/providers/Microsoft.Compute/virtualMachines/FS01]\u001b[0m\n",
      "\u001b[0m\u001b[1mmodule.kali_vm.azurerm_virtual_machine.vm[0]: Refreshing state... [id=/subscriptions/61eef5f4-ff9e-4e99-b721-50cfc0a26fcf/resourceGroups/RG_THLAB/providers/Microsoft.Compute/virtualMachines/AZ-KALI1]\u001b[0m\n",
      "\u001b[0m\u001b[1mmodule.windows_vm_dc.azurerm_virtual_machine.windows_dc: Refreshing state... [id=/subscriptions/61eef5f4-ff9e-4e99-b721-50cfc0a26fcf/resourceGroups/RG_THLAB/providers/Microsoft.Compute/virtualMachines/DC01]\u001b[0m\n",
      "\u001b[0m\u001b[1mmodule.windows_vm_client.azurerm_virtual_machine.windows_vm[0]: Refreshing state... [id=/subscriptions/61eef5f4-ff9e-4e99-b721-50cfc0a26fcf/resourceGroups/RG_THLAB/providers/Microsoft.Compute/virtualMachines/WS1]\u001b[0m\n",
      "\u001b[0m\u001b[1mmodule.ubuntu_rabbitmq_vm.azurerm_virtual_machine.ubuntu_vm: Refreshing state... [id=/subscriptions/61eef5f4-ff9e-4e99-b721-50cfc0a26fcf/resourceGroups/RG_THLAB/providers/Microsoft.Compute/virtualMachines/AZ-MQ]\u001b[0m\n",
      "\n",
      "------------------------------------------------------------------------\n",
      "\n",
      "\u001b[0m\u001b[1m\u001b[32mNo changes. Infrastructure is up-to-date.\u001b[0m\u001b[32m\n",
      "\n",
      "This means that Terraform did not detect any differences between your\n",
      "configuration and real physical resources that exist. As a result, no\n",
      "actions need to be performed.\u001b[0m\n",
      "\u001b[33m\n",
      "\u001b[1m\u001b[33mWarning: \u001b[0m\u001b[0m\u001b[1mInterpolation-only expressions are deprecated\u001b[0m\n",
      "\n",
      "\u001b[0m  on maint.tf line 4, in resource \"azurerm_resource_group\" \"rg_network\":\n",
      "   4:     name = \u001b[4m\"${var.rg_network}\"\u001b[0m\n",
      "\u001b[0m\n",
      "Terraform 0.11 and earlier required all non-constant expressions to be\n",
      "provided via interpolation syntax, but this pattern is now deprecated. To\n",
      "silence this warning, remove the \"${ sequence from the start and the }\"\n",
      "sequence from the end of this expression, leaving just the inner expression.\n",
      "\n",
      "Template interpolation syntax is still used to construct strings from\n",
      "expressions when the template includes multiple interpolation sequences or a\n",
      "mixture of literal strings and interpolations. This deprecation applies only\n",
      "to templates that consist entirely of a single interpolation sequence.\n",
      "\n",
      "(and 113 more similar warnings elsewhere)\n",
      "\u001b[0m\u001b[0m\n",
      "\u001b[33m\n",
      "\u001b[1m\u001b[33mWarning: \u001b[0m\u001b[0m\u001b[1mQuoted type constraints are deprecated\u001b[0m\n",
      "\n",
      "\u001b[0m  on variables.tf line 19, in variable \"vmsize\":\n",
      "  19:     type = \u001b[4m\"map\"\u001b[0m\n",
      "\u001b[0m\n",
      "Terraform 0.11 and earlier required type constraints to be given in quotes,\n",
      "but that form is now deprecated and will be removed in a future version of\n",
      "Terraform. To silence this warning, remove the quotes around \"map\" and write\n",
      "map(string) instead to explicitly indicate that the map elements are strings.\n",
      "\n",
      "(and 18 more similar warnings elsewhere)\n",
      "\u001b[0m\u001b[0m\n",
      "\u001b[33m\n",
      "\u001b[1m\u001b[33mWarning: \u001b[0m\u001b[0m\u001b[1m\"address_prefix\": [DEPRECATED] Use the `address_prefixes` property instead.\u001b[0m\n",
      "\n",
      "\u001b[0m  on modules/1-network/1-create_base_network.tf line 10, in resource \"azurerm_subnet\" \"mgmt_sub_db\":\n",
      "  10: resource \"azurerm_subnet\" \"mgmt_sub_db\" \u001b[4m{\u001b[0m\n",
      "\u001b[0m\n",
      "\u001b[0m\u001b[0m\n"
     ]
    }
   ],
   "source": [
    "!terraform plan -var-file=terraform-pj.tfvars -out=pblaton.out"
   ]
  },
  {
   "cell_type": "code",
   "execution_count": 14,
   "metadata": {
    "collapsed": true
   },
   "outputs": [
    {
     "name": "stdout",
     "output_type": "stream",
     "text": [
      "\u001b[33m\r\n",
      "\u001b[1m\u001b[33mWarning: \u001b[0m\u001b[0m\u001b[1mInterpolation-only expressions are deprecated\u001b[0m\r\n",
      "\r\n",
      "\u001b[0m  on maint.tf line 4, in resource \"azurerm_resource_group\" \"rg_network\":\r\n",
      "   4:     name = \u001b[4m\"${var.rg_network}\"\u001b[0m\r\n",
      "\u001b[0m\r\n",
      "Terraform 0.11 and earlier required all non-constant expressions to be\r\n",
      "provided via interpolation syntax, but this pattern is now deprecated. To\r\n",
      "silence this warning, remove the \"${ sequence from the start and the }\"\r\n",
      "sequence from the end of this expression, leaving just the inner expression.\r\n",
      "\r\n",
      "Template interpolation syntax is still used to construct strings from\r\n",
      "expressions when the template includes multiple interpolation sequences or a\r\n",
      "mixture of literal strings and interpolations. This deprecation applies only\r\n",
      "to templates that consist entirely of a single interpolation sequence.\r\n",
      "\r\n",
      "(and 113 more similar warnings elsewhere)\r\n",
      "\u001b[0m\u001b[0m\r\n",
      "\u001b[33m\r\n",
      "\u001b[1m\u001b[33mWarning: \u001b[0m\u001b[0m\u001b[1mQuoted type constraints are deprecated\u001b[0m\r\n",
      "\r\n",
      "\u001b[0m  on variables.tf line 19, in variable \"vmsize\":\r\n",
      "  19:     type = \u001b[4m\"map\"\u001b[0m\r\n",
      "\u001b[0m\r\n",
      "Terraform 0.11 and earlier required type constraints to be given in quotes,\r\n",
      "but that form is now deprecated and will be removed in a future version of\r\n",
      "Terraform. To silence this warning, remove the quotes around \"map\" and write\r\n",
      "map(string) instead to explicitly indicate that the map elements are strings.\r\n",
      "\r\n",
      "(and 18 more similar warnings elsewhere)\r\n",
      "\u001b[0m\u001b[0m\r\n",
      "\u001b[0m\u001b[1m\u001b[32m\r\n",
      "Apply complete! Resources: 0 added, 0 changed, 0 destroyed.\u001b[0m\r\n"
     ]
    }
   ],
   "source": [
    "!terraform apply ./pblaton.out"
   ]
  },
  {
   "cell_type": "markdown",
   "metadata": {},
   "source": [
    "# ANSIBLE THLAB PJ"
   ]
  },
  {
   "cell_type": "code",
   "execution_count": 20,
   "metadata": {},
   "outputs": [
    {
     "name": "stdout",
     "output_type": "stream",
     "text": [
      "/home/coder/project/project_threathunt/ansible_threathunt\n"
     ]
    }
   ],
   "source": [
    "cd /home/coder/project/project_threathunt/ansible_threathunt"
   ]
  },
  {
   "cell_type": "code",
   "execution_count": 28,
   "metadata": {
    "collapsed": true
   },
   "outputs": [
    {
     "name": "stdout",
     "output_type": "stream",
     "text": [
      "total 112\r\n",
      "drwxr-xr-x 30 coder coder  960 Nov  9 13:29 \u001b[0m\u001b[38;5;5m.\u001b[0m/\r\n",
      "drwxr-xr-x 11 coder coder  352 Nov  9 14:48 \u001b[38;5;5m..\u001b[0m/\r\n",
      "drwxr-xr-x  3 coder coder   96 Aug 19 13:23 \u001b[38;5;5mansible-caldera\u001b[0m/\r\n",
      "drwxrwxr-x  3 coder coder   96 Aug 19 13:23 \u001b[38;5;5mansible-traefik\u001b[0m/\r\n",
      "-rw-r--r--  1 coder coder  223 Nov  9 21:48 dc_provision.yml\r\n",
      "-rw-r--r--  1 coder coder  148 Aug 19 13:23 dc_set_ad.yml\r\n",
      "-rw-r--r--  1 coder coder  280 Jan 18  2020 dc.yml\r\n",
      "-rw-r--r--  1 coder coder 8196 Oct  4 15:19 .DS_Store\r\n",
      "drwxr-xr-x 15 coder coder  480 Nov 20 21:37 \u001b[38;5;5m.git\u001b[0m/\r\n",
      "-rw-r--r--  1 coder coder  429 Mar 19  2020 .gitignore\r\n",
      "-rw-r--r--  1 coder coder 2399 Aug 19 14:53 hosts-ls\r\n",
      "-rw-r--r--  1 coder coder 3030 Nov 12 19:41 hosts-pj\r\n",
      "-rw-r--r--  1 coder coder 2028 Nov 20 18:14 hosts-pj-home\r\n",
      "-rw-r--r--  1 coder coder  324 Aug 19 13:23 lab_step_0_domain.yml\r\n",
      "-rw-r--r--  1 coder coder  537 Nov 10 11:47 lab_step_1_elk-mq.yml\r\n",
      "-rw-r--r--  1 coder coder  531 Oct 20 15:03 lab_step_2_ws.yml\r\n",
      "-rw-r--r--  1 coder coder  351 Oct 20 15:12 lab_step_3_kali.yml\r\n",
      "-rw-r--r--  1 coder coder  565 Oct 19 17:45 lab_step_4_fileserver.yml\r\n",
      "-rw-r--r--  1 coder coder  672 Mar 19  2020 pj-production\r\n",
      "-rw-r--r--  1 coder coder 3784 Nov 20 09:34 README.md\r\n",
      "drwxr-xr-x 36 coder coder 1152 Oct 19 17:43 \u001b[38;5;5mroles\u001b[0m/\r\n",
      "-rw-r--r--  1 coder coder  492 Aug 19 13:23 site-ls.yml\r\n",
      "-rw-r--r--  1 coder coder 1686 Oct 20 16:11 solutions.yml\r\n",
      "-rw-r--r--  1 coder coder  157 Aug 19 13:23 terraform.tfstate\r\n",
      "-rw-r--r--  1 coder coder 4290 Aug 19 15:07 th-ls.yml\r\n",
      "-rw-r--r--  1 coder coder 3850 Nov  9 16:03 th-pj-home.yml\r\n",
      "-rw-r--r--  1 coder coder 4278 Nov 10 11:57 th-pj.yml\r\n",
      "-rw-r--r--  1 coder coder  342 Sep 21 18:16 ws_join_ad.yml\r\n",
      "-rw-r--r--  1 coder coder   96 Sep 21 18:19 ws_provision.yml\r\n",
      "-rw-r--r--  1 coder coder   65 Aug 19 13:23 ws_winlogbeat_sysmon.yml\r\n"
     ]
    }
   ],
   "source": [
    "ls -la"
   ]
  },
  {
   "cell_type": "markdown",
   "metadata": {},
   "source": [
    "## Configure DC"
   ]
  },
  {
   "cell_type": "code",
   "execution_count": 29,
   "metadata": {},
   "outputs": [
    {
     "name": "stdout",
     "output_type": "stream",
     "text": [
      "\u001b[0;35m[DEPRECATION WARNING]: The TRANSFORM_INVALID_GROUP_CHARS settings is set to \u001b[0m\n",
      "\u001b[0;35mallow bad characters in group names by default, this will change, but still be \u001b[0m\n",
      "\u001b[0;35muser configurable on deprecation. This feature will be removed in version 2.10.\u001b[0m\n",
      "\u001b[0;35m Deprecation warnings can be disabled by setting deprecation_warnings=False in \u001b[0m\n",
      "\u001b[0;35mansible.cfg.\u001b[0m\n",
      "\u001b[0;35m\u001b[0m\u001b[1;35m[WARNING]: Invalid characters were found in group names but not replaced, use\u001b[0m\n",
      "\u001b[1;35m-vvvv to see details\u001b[0m\n",
      "\u001b[1;35m\u001b[0m\n",
      "PLAY [Set VM as DC] ************************************************************\n",
      "\n",
      "TASK [dc_set_ad : Setup Active Directory Controller] ***************************\n",
      "\u001b[0;32mok: [dc]\u001b[0m\n",
      "\u001b[0;32m\u001b[0m\n",
      "TASK [dc_set_ad : Reboot and wait 80 seconds] **********************************\n",
      "\u001b[0;36mskipping: [dc]\u001b[0m\n",
      "\u001b[0;36m\u001b[0m\n",
      "TASK [dc_set_ad : Wait 10 minutes for pdc to become reachable/usable] **********\n",
      "\u001b[0;36mskipping: [dc]\u001b[0m\n",
      "\u001b[0;36m\u001b[0m\n",
      "PLAY [Provision DC] ************************************************************\n",
      "\n",
      "TASK [dc_apps : install dc apps] ***********************************************\n",
      "\u001b[0;32mok: [dc]\u001b[0m\n",
      "\u001b[0;32m\u001b[0m\n",
      "TASK [dc_apps : install googlechrome app] **************************************\n",
      "\u001b[0;32mok: [dc]\u001b[0m\n",
      "\u001b[0;32m\u001b[0m\n",
      "TASK [dc_git-clone : Create ansible folder] ************************************\n",
      "\u001b[0;32mok: [dc]\u001b[0m\n",
      "\u001b[0;32m\u001b[0m\n",
      "TASK [dc_git-clone : Copy git clone script] ************************************\n",
      "\u001b[0;32mok: [dc]\u001b[0m\n",
      "\u001b[0;32m\u001b[0m\n",
      "TASK [dc_git-clone : Clone Ansible Threathunt git] *****************************\n",
      "\u001b[0;33mchanged: [dc]\u001b[0m\n",
      "\u001b[0;33m\u001b[0m\n",
      "TASK [dc_restore_gpo : restore domain gpo] *************************************\n",
      "\u001b[0;33mchanged: [dc]\u001b[0m\n",
      "\u001b[0;33m\u001b[0m\n",
      "TASK [dc_restore_gpo : Reboot and wait 80 seconds] *****************************\n",
      "\u001b[0;33mchanged: [dc]\u001b[0m\n",
      "\u001b[0;33m\u001b[0m\n",
      "TASK [dc_provision : Wait 10 minutes for pdc to become reachable/usable] *******\n",
      "\u001b[0;32mok: [dc -> localhost]\u001b[0m\n",
      "\u001b[0;32m\u001b[0m\n",
      "TASK [dc_provision : Install AD Services feature] ******************************\n",
      "\u001b[0;32mok: [dc]\u001b[0m\n",
      "\u001b[0;32m\u001b[0m\n",
      "TASK [dc_provision : Ensure the group SQLadmins exists using sAMAccountName] ***\n",
      "\u001b[0;32mok: [dc]\u001b[0m\n",
      "\u001b[0;32m\u001b[0m\n",
      "TASK [dc_provision : Ensure the group Students exists using sAMAccountName] ****\n",
      "\u001b[0;32mok: [dc]\u001b[0m\n",
      "\u001b[0;32m\u001b[0m\n",
      "TASK [dc_provision : Create Service user SVC_sql] ******************************\n",
      "\u001b[0;33mchanged: [dc]\u001b[0m\n",
      "\u001b[0;33m\u001b[0m\n",
      "TASK [dc_provision : Ensure each account is created] ***************************\n",
      "\u001b[0;32mok: [dc] => (item={'name': 'student01', 'password': 'student01'})\u001b[0m\n",
      "\u001b[0;32m\u001b[0m\u001b[0;32mok: [dc] => (item={'name': 'student02', 'password': 'student02'})\u001b[0m\n",
      "\u001b[0;32m\u001b[0m\u001b[0;32mok: [dc] => (item={'name': 'student03', 'password': 'student03'})\u001b[0m\n",
      "\u001b[0;32m\u001b[0m\u001b[0;32mok: [dc] => (item={'name': 'student04', 'password': 'student04'})\u001b[0m\n",
      "\u001b[0;32m\u001b[0m\u001b[0;32mok: [dc] => (item={'name': 'student05', 'password': 'student05'})\u001b[0m\n",
      "\u001b[0;32m\u001b[0m\u001b[0;32mok: [dc] => (item={'name': 'student06', 'password': 'student06'})\u001b[0m\n",
      "\u001b[0;32m\u001b[0m\u001b[0;32mok: [dc] => (item={'name': 'student07', 'password': 'student07'})\u001b[0m\n",
      "\u001b[0;32m\u001b[0m\u001b[0;32mok: [dc] => (item={'name': 'student08', 'password': 'student08'})\u001b[0m\n",
      "\u001b[0;32m\u001b[0m\u001b[0;32mok: [dc] => (item={'name': 'student09', 'password': 'student09'})\u001b[0m\n",
      "\u001b[0;32m\u001b[0m\u001b[0;32mok: [dc] => (item={'name': 'student10', 'password': 'student10'})\u001b[0m\n",
      "\u001b[0;32m\u001b[0m\u001b[0;32mok: [dc] => (item={'name': 'student11', 'password': 'student11'})\u001b[0m\n",
      "\u001b[0;32m\u001b[0m\u001b[0;32mok: [dc] => (item={'name': 'student12', 'password': 'student12'})\u001b[0m\n",
      "\u001b[0;32m\u001b[0m\n",
      "TASK [dc_provision : Copy BGinfo to netlogon] **********************************\n",
      "\u001b[0;32mok: [dc]\u001b[0m\n",
      "\u001b[0;32m\u001b[0m\n",
      "TASK [dc_provision : Create ansible folder] ************************************\n",
      "\u001b[0;32mok: [dc]\u001b[0m\n",
      "\u001b[0;32m\u001b[0m\n",
      "TASK [dc_provision : Copy threathunt script] ***********************************\n",
      "\u001b[0;32mok: [dc]\u001b[0m\n",
      "\u001b[0;32m\u001b[0m\n",
      "TASK [dc_provision : Run threathunt ps script] *********************************\n",
      "\u001b[0;33mchanged: [dc]\u001b[0m\n",
      "\u001b[0;33m\u001b[0m\n",
      "TASK [winlogbeat : Create directory] *******************************************\n",
      "\u001b[0;32mok: [dc]\u001b[0m\n",
      "\u001b[0;32m\u001b[0m\n",
      "TASK [winlogbeat : Get winlogbeat zip] *****************************************\n",
      "\u001b[0;36mskipping: [dc]\u001b[0m\n",
      "\u001b[0;36m\u001b[0m\n",
      "TASK [winlogbeat : Unzip winlogbeat] *******************************************\n",
      "\u001b[0;36mskipping: [dc]\u001b[0m\n",
      "\u001b[0;36m\u001b[0m\n",
      "TASK [winlogbeat : Install the service via script] *****************************\n",
      "\u001b[0;36mskipping: [dc]\u001b[0m\n",
      "\u001b[0;36m\u001b[0m\n",
      "TASK [winlogbeat : Copy WinLogBeat configuration.] *****************************\n",
      "\u001b[0;32mok: [dc]\u001b[0m\n",
      "\u001b[0;32m\u001b[0m\n",
      "TASK [winlogbeat : restart winlogbeat] *****************************************\n",
      "\u001b[0;33mchanged: [dc]\u001b[0m\n",
      "\u001b[0;33m\u001b[0m\n",
      "TASK [sysmon : Create directory] ***********************************************\n",
      "\u001b[0;32mok: [dc]\u001b[0m\n",
      "\u001b[0;32m\u001b[0m\n",
      "TASK [sysmon : Get sysmon zip] *************************************************\n",
      "\u001b[0;32mok: [dc]\u001b[0m\n",
      "\u001b[0;32m\u001b[0m\n",
      "TASK [sysmon : Unzip sysmon] ***************************************************\n",
      "\u001b[0;33mchanged: [dc]\u001b[0m\n",
      "\u001b[0;33m\u001b[0m\n",
      "TASK [sysmon : Copy sysmon config] *********************************************\n",
      "\u001b[0;32mok: [dc]\u001b[0m\n",
      "\u001b[0;32m\u001b[0m\n",
      "TASK [sysmon : check sysmon service] *******************************************\n",
      "\u001b[0;32mok: [dc]\u001b[0m\n",
      "\u001b[0;32m\u001b[0m\n",
      "TASK [sysmon : Run sysmon] *****************************************************\n",
      "\u001b[0;36mskipping: [dc]\u001b[0m\n",
      "\u001b[0;36m\u001b[0m\n",
      "TASK [sysmon : reload sysmon config] *******************************************\n",
      "\u001b[0;33mchanged: [dc]\u001b[0m\n",
      "\u001b[0;33m\u001b[0m\n",
      "PLAY RECAP *********************************************************************\n",
      "\u001b[0;33mdc\u001b[0m                         : \u001b[0;32mok=27  \u001b[0m \u001b[0;33mchanged=8   \u001b[0m unreachable=0    failed=0    \u001b[0;36mskipped=6   \u001b[0m rescued=0    ignored=0   \n",
      "\n"
     ]
    }
   ],
   "source": [
    "!ansible-playbook -i ../ansible_threathunt/hosts-pj --ssh-common-args='-o StrictHostKeyChecking=no' --extra-vars \"ansible_python_interpreter=/usr/bin/python3\" ../ansible_threathunt/lab_step_0_domain.yml -e @th-pj.yml"
   ]
  },
  {
   "cell_type": "markdown",
   "metadata": {},
   "source": [
    "## Configure Windows clients"
   ]
  },
  {
   "cell_type": "code",
   "execution_count": 22,
   "metadata": {
    "collapsed": true
   },
   "outputs": [
    {
     "name": "stdout",
     "output_type": "stream",
     "text": [
      "\u001b[0;35m[DEPRECATION WARNING]: The TRANSFORM_INVALID_GROUP_CHARS settings is set to \u001b[0m\n",
      "\u001b[0;35mallow bad characters in group names by default, this will change, but still be \u001b[0m\n",
      "\u001b[0;35muser configurable on deprecation. This feature will be removed in version 2.10.\u001b[0m\n",
      "\u001b[0;35m Deprecation warnings can be disabled by setting deprecation_warnings=False in \u001b[0m\n",
      "\u001b[0;35mansible.cfg.\u001b[0m\n",
      "\u001b[0;35m\u001b[0m\u001b[1;35m[WARNING]: Invalid characters were found in group names but not replaced, use\u001b[0m\n",
      "\u001b[1;35m-vvvv to see details\u001b[0m\n",
      "\u001b[1;35m\u001b[0m\n",
      "PLAY [ws-student] **************************************************************\n",
      "\n",
      "TASK [Gathering Facts] *********************************************************\n",
      "\u001b[1;31mfatal: [ws-2-pjazure.westeurope.cloudapp.azure.com]: UNREACHABLE! => {\"changed\": false, \"msg\": \"ssl: HTTPSConnectionPool(host='ws-2-pjazure.westeurope.cloudapp.azure.com', port=5986): Max retries exceeded with url: /wsman (Caused by NewConnectionError('<urllib3.connection.VerifiedHTTPSConnection object at 0x7fef51186c50>: Failed to establish a new connection: [Errno -2] Name or service not known',))\", \"unreachable\": true}\u001b[0m\n",
      "\u001b[1;31m\u001b[0m\u001b[0;32mok: [ws-1-pjazure.westeurope.cloudapp.azure.com]\u001b[0m\n",
      "\u001b[0;32m\u001b[0m\n",
      "TASK [ws_join_ad : join AD] ****************************************************\n",
      "\u001b[0;33mchanged: [ws-1-pjazure.westeurope.cloudapp.azure.com]\u001b[0m\n",
      "\u001b[0;33m\u001b[0m\n",
      "TASK [ws_join_ad : reboot after domain join] ***********************************\n",
      "\u001b[0;33mchanged: [ws-1-pjazure.westeurope.cloudapp.azure.com]\u001b[0m\n",
      "\u001b[0;33m\u001b[0m\n",
      "TASK [ws_provision : Create ansible folder] ************************************\n",
      "\u001b[0;33mchanged: [ws-1-pjazure.westeurope.cloudapp.azure.com]\u001b[0m\n",
      "\u001b[0;33m\u001b[0m\n",
      "TASK [ws_provision : Copy threathunt script] ***********************************\n",
      "\u001b[0;33mchanged: [ws-1-pjazure.westeurope.cloudapp.azure.com]\u001b[0m\n",
      "\u001b[0;33m\u001b[0m\n",
      "TASK [ws_provision : Run threathunt ps script] *********************************\n",
      "\u001b[0;33mchanged: [ws-1-pjazure.westeurope.cloudapp.azure.com]\u001b[0m\n",
      "\u001b[0;33m\u001b[0m\n",
      "TASK [ws_apps : install workstation apps] **************************************\n",
      "\u001b[1;35m[WARNING]: Chocolatey was missing from this system, so it was installed during\u001b[0m\n",
      "\u001b[1;35mthis task run.\u001b[0m\n",
      "\u001b[1;35m\u001b[0m\u001b[0;33mchanged: [ws-1-pjazure.westeurope.cloudapp.azure.com]\u001b[0m\n",
      "\u001b[0;33m\u001b[0m\n",
      "TASK [ws_apps : install googlechrome app] **************************************\n",
      "\u001b[0;33mchanged: [ws-1-pjazure.westeurope.cloudapp.azure.com]\u001b[0m\n",
      "\u001b[0;33m\u001b[0m\n",
      "TASK [ws_apps : install python 3.8] ********************************************\n",
      "\u001b[0;33mchanged: [ws-1-pjazure.westeurope.cloudapp.azure.com]\u001b[0m\n",
      "\u001b[0;33m\u001b[0m\n",
      "TASK [ws_apps : install vscode 1.47.0] *****************************************\n",
      "\u001b[0;33mchanged: [ws-1-pjazure.westeurope.cloudapp.azure.com]\u001b[0m\n",
      "\u001b[0;33m\u001b[0m\n",
      "TASK [ws_git-clone : Create ansible folder] ************************************\n",
      "\u001b[0;32mok: [ws-1-pjazure.westeurope.cloudapp.azure.com]\u001b[0m\n",
      "\u001b[0;32m\u001b[0m\n",
      "TASK [ws_git-clone : Copy git clone script] ************************************\n",
      "\u001b[0;33mchanged: [ws-1-pjazure.westeurope.cloudapp.azure.com]\u001b[0m\n",
      "\u001b[0;33m\u001b[0m\n",
      "TASK [ws_git-clone : Clone Ansible Threathunt git] *****************************\n",
      "\u001b[0;33mchanged: [ws-1-pjazure.westeurope.cloudapp.azure.com]\u001b[0m\n",
      "\u001b[0;33m\u001b[0m\n",
      "TASK [add students group to localadmin] ****************************************\n",
      "\u001b[0;33mchanged: [ws-1-pjazure.westeurope.cloudapp.azure.com]\u001b[0m\n",
      "\u001b[0;33m\u001b[0m\n",
      "PLAY RECAP *********************************************************************\n",
      "\u001b[0;33mws-1-pjazure.westeurope.cloudapp.azure.com\u001b[0m : \u001b[0;32mok=14  \u001b[0m \u001b[0;33mchanged=12  \u001b[0m unreachable=0    failed=0    skipped=0    rescued=0    ignored=0   \n",
      "\u001b[0;31mws-2-pjazure.westeurope.cloudapp.azure.com\u001b[0m : ok=0    changed=0    \u001b[1;31munreachable=1   \u001b[0m failed=0    skipped=0    rescued=0    ignored=0   \n",
      "\n"
     ]
    }
   ],
   "source": [
    "!ansible-playbook -i -vvv ../ansible_threathunt/hosts-pj --extra-vars \"ansible_python_interpreter=/usr/bin/python3\" ../ansible_threathunt/lab_step_2_ws.yml -e @th-pj.yml"
   ]
  },
  {
   "cell_type": "code",
   "execution_count": null,
   "metadata": {},
   "outputs": [],
   "source": []
  }
 ],
 "metadata": {
  "kernelspec": {
   "display_name": "Python 3",
   "language": "python",
   "name": "python3"
  },
  "language_info": {
   "codemirror_mode": {
    "name": "ipython",
    "version": 3
   },
   "file_extension": ".py",
   "mimetype": "text/x-python",
   "name": "python",
   "nbconvert_exporter": "python",
   "pygments_lexer": "ipython3",
   "version": "3.6.9"
  }
 },
 "nbformat": 4,
 "nbformat_minor": 4
}
