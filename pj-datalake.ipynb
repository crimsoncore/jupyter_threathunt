{
 "cells": [
  {
   "cell_type": "markdown",
   "metadata": {},
   "source": [
    "# ANSIBLE HOMELAB PJ"
   ]
  },
  {
   "cell_type": "markdown",
   "metadata": {},
   "source": [
    "List Ansible directory"
   ]
  },
  {
   "cell_type": "code",
   "execution_count": 1,
   "metadata": {},
   "outputs": [
    {
     "name": "stdout",
     "output_type": "stream",
     "text": [
      "/home/coder/project/project_threathunt/ansible_threathunt/pj-datalake\n"
     ]
    }
   ],
   "source": [
    "cd /home/coder/project/project_threathunt/ansible_threathunt/pj-datalake/"
   ]
  },
  {
   "cell_type": "code",
   "execution_count": 2,
   "metadata": {},
   "outputs": [
    {
     "name": "stdout",
     "output_type": "stream",
     "text": [
      "total 24\r\n",
      "drwxr-xr-x  7 coder coder  224 Feb  4 19:59 \u001b[0m\u001b[38;5;5m.\u001b[0m/\r\n",
      "drwxr-xr-x 28 coder coder  896 Feb  4 20:00 \u001b[38;5;5m..\u001b[0m/\r\n",
      "-rw-r--r--  1 coder coder 1017 Feb  4 19:59 enrichment.yml\r\n",
      "-rw-r--r--  1 coder coder  337 Feb  4 20:01 hosts-exn\r\n",
      "-rw-r--r--  1 coder coder  310 Feb  4 19:59 mq_rsa_keys.yml\r\n",
      "-rw-r--r--  1 coder coder 5397 Feb  4 19:59 th-exn.yml\r\n",
      "-rw-r--r--  1 coder coder  951 Feb  4 19:59 ubuntu_elk.yml\r\n"
     ]
    }
   ],
   "source": [
    "ls -la"
   ]
  },
  {
   "cell_type": "markdown",
   "metadata": {},
   "source": [
    "## Configure ELK"
   ]
  },
  {
   "cell_type": "code",
   "execution_count": 3,
   "metadata": {},
   "outputs": [
    {
     "name": "stdout",
     "output_type": "stream",
     "text": [
      "# Host 172.16.110.192 found: line 129\r\n",
      "/home/coder/.ssh/known_hosts updated.\r\n",
      "Original contents retained as /home/coder/.ssh/known_hosts.old\r\n"
     ]
    }
   ],
   "source": [
    "!ssh-keygen -f \"/home/coder/.ssh/known_hosts\" -R \"172.16.110.192\""
   ]
  },
  {
   "cell_type": "code",
   "execution_count": 6,
   "metadata": {},
   "outputs": [
    {
     "name": "stdout",
     "output_type": "stream",
     "text": [
      "\n",
      "PLAY [datalake] ****************************************************************\n",
      "\n",
      "TASK [Gathering Facts] *********************************************************\n",
      "\u001b[0;32mok: [ELK]\u001b[0m\n",
      "\u001b[0;32m\u001b[0m\n",
      "TASK [add universe repository for bionic] **************************************\n",
      "\u001b[0;32mok: [ELK]\u001b[0m\n",
      "\u001b[0;32m\u001b[0m\n",
      "PLAY [datalake] ****************************************************************\n",
      "\n",
      "TASK [Gathering Facts] *********************************************************\n",
      "\u001b[0;32mok: [ELK]\u001b[0m\n",
      "\u001b[0;32m\u001b[0m\n",
      "TASK [../roles/docker : include_tasks] *****************************************\n",
      "\u001b[0;36mincluded: /home/coder/project/project_threathunt/ansible_threathunt/roles/docker/tasks/setup-Debian.yml for ELK\u001b[0m\n",
      "\u001b[0;36m\u001b[0m\n",
      "TASK [../roles/docker : Ensure old versions of Docker are not installed.] ******\n",
      "\u001b[0;32mok: [ELK] => (item=docker)\u001b[0m\n",
      "\u001b[0;32m\u001b[0m\u001b[0;32mok: [ELK] => (item=docker-engine)\u001b[0m\n",
      "\u001b[0;32m\u001b[0m\n",
      "TASK [../roles/docker : Run the equivalent of \"apt-get update\" as a separate step] ***\n",
      "\u001b[0;33mchanged: [ELK]\u001b[0m\n",
      "\u001b[0;33m\u001b[0m\n",
      "TASK [../roles/docker : Upgrade all packages to the latest version] ************\n",
      "\u001b[0;32mok: [ELK]\u001b[0m\n",
      "\u001b[0;32m\u001b[0m\n",
      "TASK [../roles/docker : Ensure dependencies are installed.] ********************\n",
      "\u001b[0;35m[DEPRECATION WARNING]: Invoking \"apt\" only once while using a loop via \u001b[0m\n",
      "\u001b[0;35msquash_actions is deprecated. Instead of using a loop to supply multiple items \u001b[0m\n",
      "\u001b[0;35mand specifying `name: \"{{ item }}\"`, please use `name: ['apt-transport-https', \u001b[0m\n",
      "\u001b[0;35m'ca-certificates', 'python3-pip']` and remove the loop. This feature will be \u001b[0m\n",
      "\u001b[0;35mremoved in version 2.11. Deprecation warnings can be disabled by setting \u001b[0m\n",
      "\u001b[0;35mdeprecation_warnings=False in ansible.cfg.\u001b[0m\n",
      "\u001b[0;35m\u001b[0m\u001b[0;32mok: [ELK] => (item=['apt-transport-https', 'ca-certificates', 'python3-pip'])\u001b[0m\n",
      "\u001b[0;32m\u001b[0m\n",
      "TASK [../roles/docker : Add Docker apt key.] ***********************************\n",
      "\u001b[0;32mok: [ELK]\u001b[0m\n",
      "\u001b[0;32m\u001b[0m\n",
      "TASK [../roles/docker : Ensure curl is present (on older systems without SNI).] ***\n",
      "\u001b[0;36mskipping: [ELK]\u001b[0m\n",
      "\u001b[0;36m\u001b[0m\n",
      "TASK [../roles/docker : Add Docker apt key (alternative for older systems without SNI).] ***\n",
      "\u001b[0;36mskipping: [ELK]\u001b[0m\n",
      "\u001b[0;36m\u001b[0m\n",
      "TASK [../roles/docker : Add Docker repository.] ********************************\n",
      "\u001b[0;32mok: [ELK]\u001b[0m\n",
      "\u001b[0;32m\u001b[0m\n",
      "TASK [../roles/docker : Removing installed docker-py in favor of docker python library] ***\n",
      "\u001b[0;32mok: [ELK]\u001b[0m\n",
      "\u001b[0;32m\u001b[0m\n",
      "TASK [../roles/docker : Install docker python library] *************************\n",
      "\u001b[0;32mok: [ELK]\u001b[0m\n",
      "\u001b[0;32m\u001b[0m\n",
      "TASK [../roles/docker : Create Docker systemd directory directory] *************\n",
      "\u001b[0;32mok: [ELK]\u001b[0m\n",
      "\u001b[0;32m\u001b[0m\n",
      "TASK [../roles/docker : Add parameters for remote docker management] ***********\n",
      "\u001b[0;32mok: [ELK]\u001b[0m\n",
      "\u001b[0;32m\u001b[0m\n",
      "TASK [../roles/docker : Reload systemd daemon] *********************************\n",
      "\u001b[0;32mok: [ELK]\u001b[0m\n",
      "\u001b[0;32m\u001b[0m\n",
      "TASK [../roles/docker : Install Docker.] ***************************************\n",
      "\u001b[0;32mok: [ELK]\u001b[0m\n",
      "\u001b[0;32m\u001b[0m\n",
      "TASK [../roles/docker : Ensure Docker is started and enabled at boot.] *********\n",
      "\u001b[0;32mok: [ELK]\u001b[0m\n",
      "\u001b[0;32m\u001b[0m\n",
      "TASK [../roles/docker : include_tasks] *****************************************\n",
      "\u001b[0;36mincluded: /home/coder/project/project_threathunt/ansible_threathunt/roles/docker/tasks/docker-compose.yml for ELK\u001b[0m\n",
      "\u001b[0;36m\u001b[0m\n",
      "TASK [../roles/docker : Check current docker-compose version.] *****************\n",
      "\u001b[0;32mok: [ELK]\u001b[0m\n",
      "\u001b[0;32m\u001b[0m\n",
      "TASK [../roles/docker : Delete existing docker-compose version if it's different.] ***\n",
      "\u001b[0;36mskipping: [ELK]\u001b[0m\n",
      "\u001b[0;36m\u001b[0m\n",
      "TASK [../roles/docker : Install Docker Compose (if configured).] ***************\n",
      "\u001b[0;32mok: [ELK]\u001b[0m\n",
      "\u001b[0;32m\u001b[0m\n",
      "TASK [../roles/docker : include_tasks] *****************************************\n",
      "\u001b[0;35m[DEPRECATION WARNING]: evaluating 'docker_users' as a bare variable, this \u001b[0m\n",
      "\u001b[0;35mbehaviour will go away and you might need to add |bool to the expression in the\u001b[0m\n",
      "\u001b[0;35m future. Also see CONDITIONAL_BARE_VARS configuration toggle. This feature will\u001b[0m\n",
      "\u001b[0;35m be removed in version 2.12. Deprecation warnings can be disabled by setting \u001b[0m\n",
      "\u001b[0;35mdeprecation_warnings=False in ansible.cfg.\u001b[0m\n",
      "\u001b[0;35m\u001b[0m\u001b[0;36mincluded: /home/coder/project/project_threathunt/ansible_threathunt/roles/docker/tasks/docker-users.yml for ELK\u001b[0m\n",
      "\u001b[0;36m\u001b[0m\n",
      "TASK [../roles/docker : Ensure docker users are added to the docker group.] ****\n",
      "\u001b[0;32mok: [ELK] => (item=exclusive)\u001b[0m\n",
      "\u001b[0;32m\u001b[0m\n",
      "TASK [../roles/git-clone-threathunt : git clone threathunt] ********************\n",
      "\u001b[0;32mok: [ELK]\u001b[0m\n",
      "\u001b[0;32m\u001b[0m\n",
      "TASK [../roles/git-clone-student : git clone threathunt-student] ***************\n",
      "\u001b[0;33mchanged: [ELK]\u001b[0m\n",
      "\u001b[0;33m\u001b[0m\n",
      "TASK [../roles/portainer_elk : Create traefik network] *************************\n",
      "\u001b[0;32mok: [ELK]\u001b[0m\n",
      "\u001b[0;32m\u001b[0m\n",
      "TASK [../roles/portainer_elk : Install Portainer on each docker host] **********\n",
      "\u001b[0;35m[DEPRECATION WARNING]: Please note that docker_container handles networks \u001b[0m\n",
      "\u001b[0;35mslightly different than docker CLI. If you specify networks, the default \u001b[0m\n",
      "\u001b[0;35mnetwork will still be attached as the first network. (You can specify \u001b[0m\n",
      "\u001b[0;35mpurge_networks to remove all networks not explicitly listed.) This behavior \u001b[0m\n",
      "\u001b[0;35mwill change in Ansible 2.12. You can change the behavior now by setting the new\u001b[0m\n",
      "\u001b[0;35m `networks_cli_compatible` option to `yes`, and remove this warning by setting \u001b[0m\n",
      "\u001b[0;35mit to `no`. This feature will be removed in version 2.12. Deprecation warnings \u001b[0m\n",
      "\u001b[0;35mcan be disabled by setting deprecation_warnings=False in ansible.cfg.\u001b[0m\n",
      "\u001b[0;35m\u001b[0m\u001b[0;33mchanged: [ELK]\u001b[0m\n",
      "\u001b[0;33m\u001b[0m\n",
      "TASK [../roles/logstash_mq : Create traefik network] ***************************\n",
      "\u001b[0;32mok: [ELK]\u001b[0m\n",
      "\u001b[0;32m\u001b[0m\n",
      "TASK [../roles/logstash_mq : Install Logstash docker] **************************\n",
      "\u001b[0;32mok: [ELK]\u001b[0m\n",
      "\u001b[0;32m\u001b[0m\n",
      "TASK [../roles/logstash : Create traefik network] ******************************\n",
      "\u001b[0;32mok: [ELK]\u001b[0m\n",
      "\u001b[0;32m\u001b[0m\n",
      "TASK [../roles/logstash : Install Logstash docker] *****************************\n",
      "\u001b[0;32mok: [ELK]\u001b[0m\n",
      "\u001b[0;32m\u001b[0m\n",
      "TASK [../roles/es-cluster : change vm map max count on system.] ****************\n",
      "\u001b[0;33mchanged: [ELK]\u001b[0m\n",
      "\u001b[0;33m\u001b[0m\n",
      "TASK [../roles/es-cluster : restart sysctl] ************************************\n",
      "\u001b[1;35m[WARNING]: Consider using 'become', 'become_method', and 'become_user' rather\u001b[0m\n",
      "\u001b[1;35mthan running sudo\u001b[0m\n",
      "\u001b[1;35m\u001b[0m\u001b[0;33mchanged: [ELK]\u001b[0m\n",
      "\u001b[0;33m\u001b[0m\n",
      "TASK [../roles/es-cluster : Create traefik network] ****************************\n",
      "\u001b[0;32mok: [ELK]\u001b[0m\n",
      "\u001b[0;32m\u001b[0m\n",
      "TASK [../roles/es-cluster : Install elasticsearch node1] ***********************\n",
      "\u001b[0;32mok: [ELK]\u001b[0m\n",
      "\u001b[0;32m\u001b[0m\n",
      "TASK [../roles/es-cluster : Install elasticsearch node2] ***********************\n",
      "\u001b[0;32mok: [ELK]\u001b[0m\n",
      "\u001b[0;32m\u001b[0m\n",
      "TASK [../roles/es-cluster : Install elasticsearch node3] ***********************\n",
      "\u001b[0;32mok: [ELK]\u001b[0m\n",
      "\u001b[0;32m\u001b[0m\n",
      "TASK [../roles/kibana : Create traefik network] ********************************\n",
      "\u001b[0;32mok: [ELK]\u001b[0m\n",
      "\u001b[0;32m\u001b[0m\n",
      "TASK [../roles/kibana : Install Kibana] ****************************************\n",
      "\u001b[0;32mok: [ELK]\u001b[0m\n",
      "\u001b[0;32m\u001b[0m\n",
      "TASK [../roles/rabbitmq : Create traefik network] ******************************\n",
      "\u001b[0;32mok: [ELK]\u001b[0m\n",
      "\u001b[0;32m\u001b[0m\n",
      "TASK [../roles/rabbitmq : Install Rabbitmq Container] **************************\n",
      "\u001b[0;32mok: [ELK]\u001b[0m\n",
      "\u001b[0;32m\u001b[0m\n",
      "TASK [add hostname to hosts file] **********************************************\n",
      "\u001b[0;33mchanged: [ELK]\u001b[0m\n",
      "\u001b[0;33m\u001b[0m\n",
      "PLAY RECAP *********************************************************************\n",
      "\u001b[0;33mELK\u001b[0m                        : \u001b[0;32mok=41  \u001b[0m \u001b[0;33mchanged=6   \u001b[0m unreachable=0    failed=0    \u001b[0;36mskipped=3   \u001b[0m rescued=0    ignored=0   \n",
      "\n"
     ]
    }
   ],
   "source": [
    "!ansible-playbook -i ./hosts-exn --extra-vars \"ansible_python_interpreter=/usr/bin/python3\" ./ubuntu_elk.yml -e @th-exn.yml"
   ]
  },
  {
   "cell_type": "code",
   "execution_count": 9,
   "metadata": {},
   "outputs": [
    {
     "name": "stdout",
     "output_type": "stream",
     "text": [
      "\n",
      "PLAY [datalake] ****************************************************************\n",
      "\n",
      "TASK [Gathering Facts] *********************************************************\n",
      "\u001b[0;32mok: [ELK]\u001b[0m\n",
      "\u001b[0;32m\u001b[0m\n",
      "TASK [git pull threathunt_student] *********************************************\n",
      "\u001b[0;33mchanged: [ELK]\u001b[0m\n",
      "\u001b[0;33m\u001b[0m\n",
      "TASK [make script executable] **************************************************\n",
      "\u001b[1;35m[WARNING]: Consider using the file module with mode rather than running\u001b[0m\n",
      "\u001b[1;35m'chmod'.  If you need to use command because file is insufficient you can add\u001b[0m\n",
      "\u001b[1;35m'warn: false' to this command task or set 'command_warnings=False' in\u001b[0m\n",
      "\u001b[1;35mansible.cfg to get rid of this message.\u001b[0m\n",
      "\u001b[1;35m\u001b[0m\u001b[0;33mchanged: [ELK]\u001b[0m\n",
      "\u001b[0;33m\u001b[0m\n",
      "TASK [lab 1.4 elk] *************************************************************\n",
      "\u001b[0;33mchanged: [ELK]\u001b[0m\n",
      "\u001b[0;33m\u001b[0m\n",
      "TASK [lab 1.6.1 Enrichment API's. Freqserver - Domainstats] ********************\n",
      "\u001b[0;32mok: [ELK]\u001b[0m\n",
      "\u001b[0;32m\u001b[0m\n",
      "TASK [lab 1.6.2 Logstash filters] **********************************************\n",
      "\u001b[0;32mok: [ELK]\u001b[0m\n",
      "\u001b[0;32m\u001b[0m\n",
      "TASK [lab 1.7 Sigma] ***********************************************************\n",
      "\u001b[0;32mok: [ELK]\u001b[0m\n",
      "\u001b[0;32m\u001b[0m\n",
      "TASK [lab 1.8 Elastalert] ******************************************************\n",
      "\u001b[0;32mok: [ELK]\u001b[0m\n",
      "\u001b[0;32m\u001b[0m\n",
      "PLAY RECAP *********************************************************************\n",
      "\u001b[0;33mELK\u001b[0m                        : \u001b[0;32mok=8   \u001b[0m \u001b[0;33mchanged=3   \u001b[0m unreachable=0    failed=0    skipped=0    rescued=0    ignored=0   \n",
      "\n"
     ]
    }
   ],
   "source": [
    "!ansible-playbook -i hosts-exn --extra-vars \"ansible_python_interpreter=/usr/bin/python3\" enrichment.yml -e @th-exn.yml"
   ]
  },
  {
   "cell_type": "code",
   "execution_count": null,
   "metadata": {},
   "outputs": [],
   "source": []
  }
 ],
 "metadata": {
  "kernelspec": {
   "display_name": "Python 3",
   "language": "python",
   "name": "python3"
  },
  "language_info": {
   "codemirror_mode": {
    "name": "ipython",
    "version": 3
   },
   "file_extension": ".py",
   "mimetype": "text/x-python",
   "name": "python",
   "nbconvert_exporter": "python",
   "pygments_lexer": "ipython3",
   "version": "3.6.9"
  }
 },
 "nbformat": 4,
 "nbformat_minor": 4
}
